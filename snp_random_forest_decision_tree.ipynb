{
 "cells": [
  {
   "cell_type": "code",
   "execution_count": 1,
   "metadata": {},
   "outputs": [],
   "source": [
    "import pandas as pd\n",
    "import numpy as np\n",
    "from ta import *\n",
    "snp_df = pd.read_csv('S&P500_technical_indicator_labels.csv')"
   ]
  },
  {
   "cell_type": "code",
   "execution_count": 2,
   "metadata": {},
   "outputs": [],
   "source": [
    "test_year_dates = ['2018-08-01','2019-08-30']\n",
    "t1year = ['2017-07-03','2018-07-30']\n",
    "t5year = ['2013-07-01','2018-07-30']\n",
    "\n",
    "# train_type should be ['1_year','5_year','all']\n",
    "def get_recent_test_train(df, train_type):\n",
    "    try:\n",
    "        df = df.set_index('Date')\n",
    "    except:\n",
    "        pass\n",
    "    test = df.loc[test_year_dates[0]:test_year_dates[1]]\n",
    "    if train_type == '1_year':\n",
    "        train = df.loc[t1year[0]:t1year[1]]\n",
    "    elif train_type == '5_year':\n",
    "        train = df.loc[t5year[0]:t5year[1]]\n",
    "    elif train_type == 'all':\n",
    "        train = df.loc[:t1year[1]]\n",
    "    else:\n",
    "        print(\"train_type must be one of the following:\")\n",
    "        print('1_year, ','5_year, ','or all')\n",
    "        return(0,0)\n",
    "    return(train, test)"
   ]
  },
  {
   "cell_type": "code",
   "execution_count": 3,
   "metadata": {},
   "outputs": [
    {
     "name": "stdout",
     "output_type": "stream",
     "text": [
      "Requirement already satisfied: sklearn in /opt/conda/lib/python3.6/site-packages (0.0)\n",
      "Requirement already satisfied: scikit-learn in /opt/conda/lib/python3.6/site-packages (from sklearn) (0.20.3)\n",
      "Requirement already satisfied: scipy>=0.13.3 in /opt/conda/lib/python3.6/site-packages (from scikit-learn->sklearn) (1.1.0)\n",
      "Requirement already satisfied: numpy>=1.8.2 in /opt/conda/lib/python3.6/site-packages (from scikit-learn->sklearn) (1.16.3)\n"
     ]
    }
   ],
   "source": [
    "!pip install sklearn"
   ]
  },
  {
   "cell_type": "code",
   "execution_count": 4,
   "metadata": {},
   "outputs": [],
   "source": [
    "X = snp_df[['keltner_indicator', 'bbands_indicator', 'ichimoku_label','macd_indicator', 'rsi_label', 'ease_label', 'cmf_label', 'stochastic_label']]\n",
    "y = snp_df['snp_labels']\n",
    "train_data_1year_snp, test_data_1year_snp = get_recent_test_train(snp_df, '1_year')\n",
    "X_train_1year_snp = train_data_1year_snp[['keltner_indicator', 'bbands_indicator', 'ichimoku_label','macd_indicator', 'rsi_label', 'ease_label', 'cmf_label', 'stochastic_label']]\n",
    "X_test_1year_snp = test_data_1year_snp[['keltner_indicator', 'bbands_indicator', 'ichimoku_label','macd_indicator', 'rsi_label', 'ease_label', 'cmf_label', 'stochastic_label']]\n",
    "y_train_1year_snp = train_data_1year_snp[['snp_labels']]\n",
    "y_test_1year_snp = test_data_1year_snp[['snp_labels']]"
   ]
  },
  {
   "cell_type": "code",
   "execution_count": 5,
   "metadata": {},
   "outputs": [],
   "source": [
    "from sklearn import tree\n",
    "\n",
    "model = tree.DecisionTreeClassifier()\n",
    "\n",
    "model.fit(X_train_1year_snp, y_train_1year_snp)\n",
    "\n",
    "y_predict = model.predict(X_test_1year_snp)"
   ]
  },
  {
   "cell_type": "code",
   "execution_count": 6,
   "metadata": {},
   "outputs": [
    {
     "data": {
      "text/plain": [
       "0.42857142857142855"
      ]
     },
     "execution_count": 6,
     "metadata": {},
     "output_type": "execute_result"
    }
   ],
   "source": [
    "from sklearn.metrics import accuracy_score\n",
    "\n",
    "accuracy_score(y_test_1year_snp, y_predict)"
   ]
  },
  {
   "cell_type": "code",
   "execution_count": 7,
   "metadata": {},
   "outputs": [],
   "source": [
    "tree.export_graphviz(model, out_file='1year_snp_tree.dot', feature_names=X.columns)"
   ]
  },
  {
   "cell_type": "code",
   "execution_count": 8,
   "metadata": {},
   "outputs": [
    {
     "name": "stdout",
     "output_type": "stream",
     "text": [
      "/bin/sh: 1: pip3: not found\n"
     ]
    },
    {
     "data": {
      "text/plain": [
       "<Figure size 640x480 with 1 Axes>"
      ]
     },
     "metadata": {},
     "output_type": "display_data"
    }
   ],
   "source": [
    "# from subprocess import call\n",
    "# !pip install pydot\n",
    "# call(['dot', '-T', 'png', 'tree.dot', '-o', 'tree.png'])\n",
    "!pip3 install pygraphviz\n",
    "import pygraphviz as pgv\n",
    "import networkx as nx\n",
    "import matplotlib.pyplot as plt\n",
    "Gtmp = pgv.AGraph('1year_snp_tree.dot')\n",
    "G = nx.Graph(Gtmp)\n",
    "nx.draw(G)\n",
    "plt.show()"
   ]
  },
  {
   "cell_type": "code",
   "execution_count": 9,
   "metadata": {},
   "outputs": [],
   "source": [
    "import pydot\n",
    "\n",
    "(graph,) = pydot.graph_from_dot_file('1year_snp_tree.dot')\n",
    "graph.write_png('1year_snp_decisiontree.png')"
   ]
  },
  {
   "cell_type": "code",
   "execution_count": 10,
   "metadata": {},
   "outputs": [],
   "source": [
    "X = snp_df[['keltner_indicator', 'bbands_indicator', 'ichimoku_label','macd_indicator', 'rsi_label', 'ease_label', 'cmf_label', 'stochastic_label']]\n",
    "y = snp_df['snp_labels']\n",
    "train_data_5year_snp, test_data_5year_snp = get_recent_test_train(snp_df, '5_year')\n",
    "X_train_5year_snp = train_data_5year_snp[['keltner_indicator', 'bbands_indicator', 'ichimoku_label','macd_indicator', 'rsi_label', 'ease_label', 'cmf_label', 'stochastic_label']]\n",
    "X_test_5year_snp = test_data_5year_snp[['keltner_indicator', 'bbands_indicator', 'ichimoku_label','macd_indicator', 'rsi_label', 'ease_label', 'cmf_label', 'stochastic_label']]\n",
    "y_train_5year_snp = train_data_5year_snp[['snp_labels']]\n",
    "y_test_5year_snp = test_data_5year_snp[['snp_labels']]"
   ]
  },
  {
   "cell_type": "code",
   "execution_count": 11,
   "metadata": {},
   "outputs": [],
   "source": [
    "from sklearn import tree\n",
    "\n",
    "model = tree.DecisionTreeClassifier()\n",
    "\n",
    "model.fit(X_train_5year_snp, y_train_5year_snp)\n",
    "\n",
    "y_predict = model.predict(X_test_5year_snp)"
   ]
  },
  {
   "cell_type": "code",
   "execution_count": 12,
   "metadata": {},
   "outputs": [
    {
     "data": {
      "text/plain": [
       "0.45054945054945056"
      ]
     },
     "execution_count": 12,
     "metadata": {},
     "output_type": "execute_result"
    }
   ],
   "source": [
    "from sklearn.metrics import accuracy_score\n",
    "\n",
    "accuracy_score(y_test_5year_snp, y_predict)"
   ]
  },
  {
   "cell_type": "code",
   "execution_count": 13,
   "metadata": {},
   "outputs": [],
   "source": [
    "tree.export_graphviz(model, out_file='5year_snp_tree.dot', feature_names=X.columns)"
   ]
  },
  {
   "cell_type": "code",
   "execution_count": 14,
   "metadata": {},
   "outputs": [
    {
     "name": "stdout",
     "output_type": "stream",
     "text": [
      "/bin/sh: 1: pip3: not found\n"
     ]
    },
    {
     "data": {
      "image/png": "[encoded data removed]",
      "text/plain": [
       "<Figure size 432x288 with 1 Axes>"
      ]
     },
     "metadata": {},
     "output_type": "display_data"
    }
   ],
   "source": [
    "# from subprocess import call\n",
    "# !pip install pydot\n",
    "# call(['dot', '-T', 'png', 'tree.dot', '-o', 'tree.png'])\n",
    "!pip3 install pygraphviz\n",
    "import pygraphviz as pgv\n",
    "import networkx as nx\n",
    "import matplotlib.pyplot as plt\n",
    "Gtmp = pgv.AGraph('5year_snp_tree.dot')\n",
    "G = nx.Graph(Gtmp)\n",
    "nx.draw(G)\n",
    "plt.show()"
   ]
  },
  {
   "cell_type": "code",
   "execution_count": 15,
   "metadata": {},
   "outputs": [],
   "source": [
    "import pydot\n",
    "\n",
    "(graph,) = pydot.graph_from_dot_file('5year_snp_tree.dot')\n",
    "graph.write_png('5year_snp_decisiontree.png')"
   ]
  },
  {
   "cell_type": "code",
   "execution_count": 16,
   "metadata": {},
   "outputs": [],
   "source": [
    "X = snp_df[['keltner_indicator', 'bbands_indicator', 'ichimoku_label','macd_indicator', 'rsi_label', 'ease_label', 'cmf_label', 'stochastic_label']]\n",
    "y = snp_df['snp_labels']\n",
    "train_data_all_snp, test_data_all_snp = get_recent_test_train(snp_df, 'all')\n",
    "X_train_all_snp = train_data_all_snp[['keltner_indicator', 'bbands_indicator', 'ichimoku_label','macd_indicator', 'rsi_label', 'ease_label', 'cmf_label', 'stochastic_label']]\n",
    "X_test_all_snp = test_data_all_snp[['keltner_indicator', 'bbands_indicator', 'ichimoku_label','macd_indicator', 'rsi_label', 'ease_label', 'cmf_label', 'stochastic_label']]\n",
    "y_train_all_snp = train_data_all_snp[['snp_labels']]\n",
    "y_test_all_snp = test_data_all_snp[['snp_labels']]"
   ]
  },
  {
   "cell_type": "code",
   "execution_count": 17,
   "metadata": {},
   "outputs": [],
   "source": [
    "from sklearn import tree\n",
    "\n",
    "model = tree.DecisionTreeClassifier()\n",
    "\n",
    "model.fit(X_train_all_snp, y_train_all_snp)\n",
    "\n",
    "y_predict = model.predict(X_test_all_snp)"
   ]
  },
  {
   "cell_type": "code",
   "execution_count": 18,
   "metadata": {},
   "outputs": [
    {
     "data": {
      "text/plain": [
       "0.47985347985347987"
      ]
     },
     "execution_count": 18,
     "metadata": {},
     "output_type": "execute_result"
    }
   ],
   "source": [
    "from sklearn.metrics import accuracy_score\n",
    "\n",
    "accuracy_score(y_test_all_snp, y_predict)"
   ]
  },
  {
   "cell_type": "code",
   "execution_count": 19,
   "metadata": {},
   "outputs": [],
   "source": [
    "tree.export_graphviz(model, out_file='all_snp_tree.dot', feature_names=X.columns)"
   ]
  },
  {
   "cell_type": "code",
   "execution_count": 20,
   "metadata": {},
   "outputs": [
    {
     "name": "stdout",
     "output_type": "stream",
     "text": [
      "/bin/sh: 1: pip3: not found\n"
     ]
    },
    {
     "data": {
      "image/png": "[encoded data removed]",
      "text/plain": [
       "<Figure size 432x288 with 1 Axes>"
      ]
     },
     "metadata": {},
     "output_type": "display_data"
    }
   ],
   "source": [
    "# from subprocess import call\n",
    "# !pip install pydot\n",
    "# call(['dot', '-T', 'png', 'tree.dot', '-o', 'tree.png'])\n",
    "!pip3 install pygraphviz\n",
    "import pygraphviz as pgv\n",
    "import networkx as nx\n",
    "import matplotlib.pyplot as plt\n",
    "Gtmp = pgv.AGraph('all_snp_tree.dot')\n",
    "G = nx.Graph(Gtmp)\n",
    "nx.draw(G)\n",
    "plt.show()"
   ]
  },
  {
   "cell_type": "code",
   "execution_count": 21,
   "metadata": {},
   "outputs": [],
   "source": [
    "import pydot\n",
    "\n",
    "(graph,) = pydot.graph_from_dot_file('all_snp_tree.dot')\n",
    "graph.write_png('all_snp_decisiontree.png')"
   ]
  },
  {
   "cell_type": "code",
   "execution_count": 22,
   "metadata": {},
   "outputs": [
    {
     "name": "stdout",
     "output_type": "stream",
     "text": [
      "[[ 18   4  90]\n",
      " [  0   3  21]\n",
      " [ 26   6 105]]\n",
      "              precision    recall  f1-score   support\n",
      "\n",
      "        -1.0       0.41      0.16      0.23       112\n",
      "         0.0       0.23      0.12      0.16        24\n",
      "         1.0       0.49      0.77      0.59       137\n",
      "\n",
      "   micro avg       0.46      0.46      0.46       273\n",
      "   macro avg       0.38      0.35      0.33       273\n",
      "weighted avg       0.43      0.46      0.41       273\n",
      "\n",
      "0.46153846153846156\n"
     ]
    }
   ],
   "source": [
    "from sklearn.ensemble import RandomForestClassifier\n",
    "from sklearn.datasets import make_classification\n",
    "from sklearn.metrics import classification_report, confusion_matrix, accuracy_score\n",
    "\n",
    "X = snp_df[['keltner_indicator', 'bbands_indicator', 'ichimoku_label','macd_indicator', 'rsi_label', 'ease_label', 'cmf_label', 'stochastic_label']]\n",
    "y = snp_df['snp_labels']\n",
    "train_data_1year_snp, test_data_1year_snp = get_recent_test_train(snp_df, '1_year')\n",
    "X_train_1year_snp = train_data_1year_snp[['keltner_indicator', 'bbands_indicator', 'ichimoku_label','macd_indicator', 'rsi_label', 'ease_label', 'cmf_label', 'stochastic_label']]\n",
    "X_test_1year_snp = test_data_1year_snp[['keltner_indicator', 'bbands_indicator', 'ichimoku_label','macd_indicator', 'rsi_label', 'ease_label', 'cmf_label', 'stochastic_label']]\n",
    "y_train_1year_snp = train_data_1year_snp[['snp_labels']]\n",
    "y_test_1year_snp = test_data_1year_snp[['snp_labels']]\n",
    "\n",
    "model = RandomForestClassifier(n_estimators=100)\n",
    "model.fit(X_train_1year_snp, y_train_1year_snp.values.ravel())\n",
    "y_pred = model.predict(X_test_1year_snp)\n",
    "\n",
    "print(confusion_matrix(y_test_1year_snp,y_pred))\n",
    "print(classification_report(y_test_1year_snp,y_pred))\n",
    "print(accuracy_score(y_test_1year_snp, y_pred))"
   ]
  },
  {
   "cell_type": "code",
   "execution_count": 23,
   "metadata": {},
   "outputs": [
    {
     "name": "stdout",
     "output_type": "stream",
     "text": [
      "[[ 19   5  88]\n",
      " [  6   1  17]\n",
      " [ 31   6 100]]\n",
      "              precision    recall  f1-score   support\n",
      "\n",
      "        -1.0       0.34      0.17      0.23       112\n",
      "         0.0       0.08      0.04      0.06        24\n",
      "         1.0       0.49      0.73      0.58       137\n",
      "\n",
      "   micro avg       0.44      0.44      0.44       273\n",
      "   macro avg       0.30      0.31      0.29       273\n",
      "weighted avg       0.39      0.44      0.39       273\n",
      "\n",
      "0.43956043956043955\n"
     ]
    }
   ],
   "source": [
    "from sklearn.ensemble import RandomForestClassifier\n",
    "from sklearn.datasets import make_classification\n",
    "from sklearn.metrics import classification_report, confusion_matrix, accuracy_score\n",
    "\n",
    "X = snp_df[['keltner_indicator', 'bbands_indicator', 'ichimoku_label','macd_indicator', 'rsi_label', 'ease_label', 'cmf_label', 'stochastic_label']]\n",
    "y = snp_df['snp_labels']\n",
    "train_data_5year_snp, test_data_5year_snp = get_recent_test_train(snp_df, '5_year')\n",
    "X_train_5year_snp = train_data_5year_snp[['keltner_indicator', 'bbands_indicator', 'ichimoku_label','macd_indicator', 'rsi_label', 'ease_label', 'cmf_label', 'stochastic_label']]\n",
    "X_test_5year_snp = test_data_5year_snp[['keltner_indicator', 'bbands_indicator', 'ichimoku_label','macd_indicator', 'rsi_label', 'ease_label', 'cmf_label', 'stochastic_label']]\n",
    "y_train_5year_snp = train_data_5year_snp[['snp_labels']]\n",
    "y_test_5year_snp = test_data_5year_snp[['snp_labels']]\n",
    "\n",
    "model = RandomForestClassifier(n_estimators=100)\n",
    "model.fit(X_train_5year_snp, y_train_5year_snp.values.ravel())\n",
    "y_pred = model.predict(X_test_5year_snp)\n",
    "\n",
    "print(confusion_matrix(y_test_5year_snp,y_pred))\n",
    "print(classification_report(y_test_5year_snp,y_pred))\n",
    "print(accuracy_score(y_test_5year_snp, y_pred))"
   ]
  },
  {
   "cell_type": "code",
   "execution_count": 24,
   "metadata": {},
   "outputs": [
    {
     "name": "stdout",
     "output_type": "stream",
     "text": [
      "[[ 10   0 102]\n",
      " [  2   0  22]\n",
      " [ 16   2 119]]\n",
      "              precision    recall  f1-score   support\n",
      "\n",
      "        -1.0       0.36      0.09      0.14       112\n",
      "         0.0       0.00      0.00      0.00        24\n",
      "         1.0       0.49      0.87      0.63       137\n",
      "\n",
      "   micro avg       0.47      0.47      0.47       273\n",
      "   macro avg       0.28      0.32      0.26       273\n",
      "weighted avg       0.39      0.47      0.37       273\n",
      "\n",
      "0.4725274725274725\n"
     ]
    }
   ],
   "source": [
    "from sklearn.ensemble import RandomForestClassifier\n",
    "from sklearn.datasets import make_classification\n",
    "from sklearn.metrics import classification_report, confusion_matrix, accuracy_score\n",
    "\n",
    "X = snp_df[['keltner_indicator', 'bbands_indicator', 'ichimoku_label','macd_indicator', 'rsi_label', 'ease_label', 'cmf_label', 'stochastic_label']]\n",
    "y = snp_df['snp_labels']\n",
    "train_data_all_snp, test_data_all_snp = get_recent_test_train(snp_df, 'all')\n",
    "X_train_all_snp = train_data_all_snp[['keltner_indicator', 'bbands_indicator', 'ichimoku_label','macd_indicator', 'rsi_label', 'ease_label', 'cmf_label', 'stochastic_label']]\n",
    "X_test_all_snp = test_data_all_snp[['keltner_indicator', 'bbands_indicator', 'ichimoku_label','macd_indicator', 'rsi_label', 'ease_label', 'cmf_label', 'stochastic_label']]\n",
    "y_train_all_snp = train_data_all_snp[['snp_labels']]\n",
    "y_test_all_snp = test_data_all_snp[['snp_labels']]\n",
    "\n",
    "model = RandomForestClassifier(n_estimators=100)\n",
    "model.fit(X_train_all_snp, y_train_all_snp.values.ravel())\n",
    "y_pred = model.predict(X_test_all_snp)\n",
    "\n",
    "print(confusion_matrix(y_test_all_snp,y_pred))\n",
    "print(classification_report(y_test_all_snp,y_pred))\n",
    "print(accuracy_score(y_test_all_snp, y_pred))"
   ]
  },
  {
   "cell_type": "code",
   "execution_count": 25,
   "metadata": {},
   "outputs": [],
   "source": [
    "b1 = ['1991-04-01','1993-04-30']\n",
    "b2 = ['2001-12-03','2003-12-31']\n",
    "b3 = ['2009-07-01','2011-07-29']\n",
    "\n",
    "def get_boom_test_train(df):\n",
    "    try:\n",
    "        df = df.set_index('Date')\n",
    "    except:\n",
    "        pass\n",
    "    train = pd.concat([df.loc[b1[0]:b1[1]],df.loc[b2[0]:b2[1]]])\n",
    "    test = df.loc[b3[0]:b3[1]]\n",
    "    return(train, test)"
   ]
  },
  {
   "cell_type": "code",
   "execution_count": 26,
   "metadata": {},
   "outputs": [],
   "source": [
    "X = snp_df[['keltner_indicator', 'bbands_indicator', 'ichimoku_label','macd_indicator', 'rsi_label', 'ease_label', 'cmf_label', 'stochastic_label']]\n",
    "y = snp_df['snp_labels']\n",
    "train_data_boom_snp, test_data_boom_snp = get_boom_test_train(snp_df)\n",
    "X_train_boom_snp = train_data_boom_snp[['keltner_indicator', 'bbands_indicator', 'ichimoku_label','macd_indicator', 'rsi_label', 'ease_label', 'cmf_label', 'stochastic_label']]\n",
    "X_test_boom_snp = test_data_boom_snp[['keltner_indicator', 'bbands_indicator', 'ichimoku_label','macd_indicator', 'rsi_label', 'ease_label', 'cmf_label', 'stochastic_label']]\n",
    "y_train_boom_snp = train_data_boom_snp[['snp_labels']]\n",
    "y_test_boom_snp = test_data_boom_snp[['snp_labels']]"
   ]
  },
  {
   "cell_type": "code",
   "execution_count": 27,
   "metadata": {},
   "outputs": [],
   "source": [
    "from sklearn import tree\n",
    "\n",
    "model = tree.DecisionTreeClassifier()\n",
    "\n",
    "model.fit(X_train_boom_snp, y_train_boom_snp)\n",
    "\n",
    "y_predict = model.predict(X_test_boom_snp)"
   ]
  },
  {
   "cell_type": "code",
   "execution_count": 28,
   "metadata": {},
   "outputs": [
    {
     "data": {
      "text/plain": [
       "0.37714285714285717"
      ]
     },
     "execution_count": 28,
     "metadata": {},
     "output_type": "execute_result"
    }
   ],
   "source": [
    "from sklearn.metrics import accuracy_score\n",
    "\n",
    "accuracy_score(y_test_boom_snp, y_predict)"
   ]
  },
  {
   "cell_type": "code",
   "execution_count": 29,
   "metadata": {},
   "outputs": [],
   "source": [
    "tree.export_graphviz(model, out_file='boom_snp_tree.dot', feature_names=X.columns)"
   ]
  },
  {
   "cell_type": "code",
   "execution_count": 30,
   "metadata": {},
   "outputs": [
    {
     "name": "stdout",
     "output_type": "stream",
     "text": [
      "/bin/sh: 1: pip3: not found\n"
     ]
    },
    {
     "data": {
      "image/png": "[encoded data removed]",
      "text/plain": [
       "<Figure size 432x288 with 1 Axes>"
      ]
     },
     "metadata": {},
     "output_type": "display_data"
    }
   ],
   "source": [
    "# from subprocess import call\n",
    "# !pip install pydot\n",
    "# call(['dot', '-T', 'png', 'tree.dot', '-o', 'tree.png'])\n",
    "!pip3 install pygraphviz\n",
    "import pygraphviz as pgv\n",
    "import networkx as nx\n",
    "import matplotlib.pyplot as plt\n",
    "Gtmp = pgv.AGraph('boom_snp_tree.dot')\n",
    "G = nx.Graph(Gtmp)\n",
    "nx.draw(G)\n",
    "plt.show()"
   ]
  },
  {
   "cell_type": "code",
   "execution_count": 31,
   "metadata": {},
   "outputs": [],
   "source": [
    "import pydot\n",
    "\n",
    "(graph,) = pydot.graph_from_dot_file('boom_snp_tree.dot')\n",
    "graph.write_png('boom_snp_decisiontree.png')"
   ]
  },
  {
   "cell_type": "code",
   "execution_count": 32,
   "metadata": {},
   "outputs": [
    {
     "name": "stdout",
     "output_type": "stream",
     "text": [
      "[[121   2  66]\n",
      " [ 41   1  16]\n",
      " [186   8  84]]\n",
      "              precision    recall  f1-score   support\n",
      "\n",
      "        -1.0       0.35      0.64      0.45       189\n",
      "         0.0       0.09      0.02      0.03        58\n",
      "         1.0       0.51      0.30      0.38       278\n",
      "\n",
      "   micro avg       0.39      0.39      0.39       525\n",
      "   macro avg       0.31      0.32      0.29       525\n",
      "weighted avg       0.40      0.39      0.37       525\n",
      "\n",
      "0.3923809523809524\n"
     ]
    }
   ],
   "source": [
    "from sklearn.ensemble import RandomForestClassifier\n",
    "from sklearn.datasets import make_classification\n",
    "from sklearn.metrics import classification_report, confusion_matrix, accuracy_score\n",
    "\n",
    "X = snp_df[['keltner_indicator', 'bbands_indicator', 'ichimoku_label','macd_indicator', 'rsi_label', 'ease_label', 'cmf_label', 'stochastic_label']]\n",
    "y = snp_df['snp_labels']\n",
    "train_data_boom_snp, test_data_boom_snp = get_boom_test_train(snp_df)\n",
    "X_train_boom_snp = train_data_boom_snp[['keltner_indicator', 'bbands_indicator', 'ichimoku_label','macd_indicator', 'rsi_label', 'ease_label', 'cmf_label', 'stochastic_label']]\n",
    "X_test_boom_snp = test_data_boom_snp[['keltner_indicator', 'bbands_indicator', 'ichimoku_label','macd_indicator', 'rsi_label', 'ease_label', 'cmf_label', 'stochastic_label']]\n",
    "y_train_boom_snp = train_data_boom_snp[['snp_labels']]\n",
    "y_test_boom_snp = test_data_boom_snp[['snp_labels']]\n",
    "\n",
    "model = RandomForestClassifier(n_estimators=100)\n",
    "model.fit(X_train_boom_snp, y_train_boom_snp.values.ravel())\n",
    "y_pred = model.predict(X_test_boom_snp)\n",
    "\n",
    "print(confusion_matrix(y_test_boom_snp,y_pred))\n",
    "print(classification_report(y_test_boom_snp,y_pred))\n",
    "print(accuracy_score(y_test_boom_snp, y_pred))"
   ]
  },
  {
   "cell_type": "code",
   "execution_count": 33,
   "metadata": {},
   "outputs": [],
   "source": [
    "r1 = ['1989-03-01','1991-03-28']\n",
    "r2 = ['1999-11-01','2001-11-30']\n",
    "r3 = ['2007-06-01','2009-06-30']\n",
    "\n",
    "def get_recession_test_train(df):\n",
    "    try:\n",
    "        df = df.set_index('Date')\n",
    "    except:\n",
    "        pass\n",
    "    train = pd.concat([df.loc[r1[0]:r1[1]],df.loc[r2[0]:r2[1]]])\n",
    "    test = df.loc[r3[0]:r3[1]]\n",
    "    return(train, test)"
   ]
  },
  {
   "cell_type": "code",
   "execution_count": 34,
   "metadata": {},
   "outputs": [],
   "source": [
    "X = snp_df[['keltner_indicator', 'bbands_indicator', 'ichimoku_label','macd_indicator', 'rsi_label', 'ease_label', 'cmf_label', 'stochastic_label']]\n",
    "y = snp_df['snp_labels']\n",
    "train_data_recession_snp, test_data_recession_snp = get_recession_test_train(snp_df)\n",
    "X_train_recession_snp = train_data_recession_snp[['keltner_indicator', 'bbands_indicator', 'ichimoku_label','macd_indicator', 'rsi_label', 'ease_label', 'cmf_label', 'stochastic_label']]\n",
    "X_test_recession_snp = test_data_recession_snp[['keltner_indicator', 'bbands_indicator', 'ichimoku_label','macd_indicator', 'rsi_label', 'ease_label', 'cmf_label', 'stochastic_label']]\n",
    "y_train_recession_snp = train_data_recession_snp[['snp_labels']]\n",
    "y_test_recession_snp = test_data_recession_snp[['snp_labels']]"
   ]
  },
  {
   "cell_type": "code",
   "execution_count": 35,
   "metadata": {},
   "outputs": [],
   "source": [
    "from sklearn import tree\n",
    "\n",
    "model = tree.DecisionTreeClassifier()\n",
    "\n",
    "model.fit(X_train_recession_snp, y_train_recession_snp)\n",
    "\n",
    "y_predict = model.predict(X_test_recession_snp)"
   ]
  },
  {
   "cell_type": "code",
   "execution_count": 36,
   "metadata": {},
   "outputs": [
    {
     "data": {
      "text/plain": [
       "0.42857142857142855"
      ]
     },
     "execution_count": 36,
     "metadata": {},
     "output_type": "execute_result"
    }
   ],
   "source": [
    "from sklearn.metrics import accuracy_score\n",
    "\n",
    "accuracy_score(y_test_recession_snp, y_predict)"
   ]
  },
  {
   "cell_type": "code",
   "execution_count": 37,
   "metadata": {},
   "outputs": [],
   "source": [
    "tree.export_graphviz(model, out_file='recession_snp_tree.dot', feature_names=X.columns)"
   ]
  },
  {
   "cell_type": "code",
   "execution_count": 38,
   "metadata": {},
   "outputs": [
    {
     "name": "stdout",
     "output_type": "stream",
     "text": [
      "/bin/sh: 1: pip3: not found\n"
     ]
    },
    {
     "data": {
      "image/png": "[encoded data removed]",
      "text/plain": [
       "<Figure size 432x288 with 1 Axes>"
      ]
     },
     "metadata": {},
     "output_type": "display_data"
    }
   ],
   "source": [
    "# from subprocess import call\n",
    "# !pip install pydot\n",
    "# call(['dot', '-T', 'png', 'tree.dot', '-o', 'tree.png'])\n",
    "!pip3 install pygraphviz\n",
    "import pygraphviz as pgv\n",
    "import networkx as nx\n",
    "import matplotlib.pyplot as plt\n",
    "Gtmp = pgv.AGraph('recession_snp_tree.dot')\n",
    "G = nx.Graph(Gtmp)\n",
    "nx.draw(G)\n",
    "plt.show()"
   ]
  },
  {
   "cell_type": "code",
   "execution_count": 39,
   "metadata": {},
   "outputs": [],
   "source": [
    "import pydot\n",
    "\n",
    "(graph,) = pydot.graph_from_dot_file('recession_snp_tree.dot')\n",
    "graph.write_png('recession_snp_decisiontree.png')"
   ]
  },
  {
   "cell_type": "code",
   "execution_count": 40,
   "metadata": {},
   "outputs": [
    {
     "name": "stdout",
     "output_type": "stream",
     "text": [
      "[[120   4 127]\n",
      " [ 40   4  64]\n",
      " [ 59   3 104]]\n",
      "              precision    recall  f1-score   support\n",
      "\n",
      "        -1.0       0.55      0.48      0.51       251\n",
      "         0.0       0.36      0.04      0.07       108\n",
      "         1.0       0.35      0.63      0.45       166\n",
      "\n",
      "   micro avg       0.43      0.43      0.43       525\n",
      "   macro avg       0.42      0.38      0.34       525\n",
      "weighted avg       0.45      0.43      0.40       525\n",
      "\n",
      "0.4342857142857143\n"
     ]
    }
   ],
   "source": [
    "from sklearn.ensemble import RandomForestClassifier\n",
    "from sklearn.datasets import make_classification\n",
    "from sklearn.metrics import classification_report, confusion_matrix, accuracy_score\n",
    "\n",
    "X = snp_df[['keltner_indicator', 'bbands_indicator', 'ichimoku_label','macd_indicator', 'rsi_label', 'ease_label', 'cmf_label', 'stochastic_label']]\n",
    "y = snp_df['snp_labels']\n",
    "train_data_recession_snp, test_data_recession_snp = get_recession_test_train(snp_df)\n",
    "X_train_recession_snp = train_data_recession_snp[['keltner_indicator', 'bbands_indicator', 'ichimoku_label','macd_indicator', 'rsi_label', 'ease_label', 'cmf_label', 'stochastic_label']]\n",
    "X_test_recession_snp = test_data_recession_snp[['keltner_indicator', 'bbands_indicator', 'ichimoku_label','macd_indicator', 'rsi_label', 'ease_label', 'cmf_label', 'stochastic_label']]\n",
    "y_train_recession_snp = train_data_recession_snp[['snp_labels']]\n",
    "y_test_recession_snp = test_data_recession_snp[['snp_labels']]\n",
    "\n",
    "model = RandomForestClassifier(n_estimators=100)\n",
    "model.fit(X_train_recession_snp, y_train_recession_snp.values.ravel())\n",
    "y_pred = model.predict(X_test_recession_snp)\n",
    "\n",
    "print(confusion_matrix(y_test_recession_snp,y_pred))\n",
    "print(classification_report(y_test_recession_snp,y_pred))\n",
    "print(accuracy_score(y_test_recession_snp, y_pred))"
   ]
  },
  {
   "cell_type": "code",
   "execution_count": null,
   "metadata": {},
   "outputs": [],
   "source": []
  }
 ],
 "metadata": {
  "kernelspec": {
   "display_name": "Python 3",
   "language": "python",
   "name": "python3"
  },
  "language_info": {
   "codemirror_mode": {
    "name": "ipython",
    "version": 3
   },
   "file_extension": ".py",
   "mimetype": "text/x-python",
   "name": "python",
   "nbconvert_exporter": "python",
   "pygments_lexer": "ipython3",
   "version": "3.6.7"
  }
 },
 "nbformat": 4,
 "nbformat_minor": 2
}
