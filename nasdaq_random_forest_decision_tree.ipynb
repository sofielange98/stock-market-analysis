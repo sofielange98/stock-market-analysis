{
 "cells": [
  {
   "cell_type": "code",
   "execution_count": 1,
   "metadata": {},
   "outputs": [],
   "source": [
    "import pandas as pd\n",
    "import numpy as np\n",
    "from ta import *\n",
    "nas_df = pd.read_csv('NASDAQ_technical_indicator_labels.csv')"
   ]
  },
  {
   "cell_type": "code",
   "execution_count": 2,
   "metadata": {},
   "outputs": [],
   "source": [
    "test_year_dates = ['2018-08-01','2019-08-30']\n",
    "t1year = ['2017-07-03','2018-07-30']\n",
    "t5year = ['2013-07-01','2018-07-30']\n",
    "\n",
    "# train_type should be ['1_year','5_year','all']\n",
    "def get_recent_test_train(df, train_type):\n",
    "    try:\n",
    "        df = df.set_index('Date')\n",
    "    except:\n",
    "        pass\n",
    "    test = df.loc[test_year_dates[0]:test_year_dates[1]]\n",
    "    if train_type == '1_year':\n",
    "        train = df.loc[t1year[0]:t1year[1]]\n",
    "    elif train_type == '5_year':\n",
    "        train = df.loc[t5year[0]:t5year[1]]\n",
    "    elif train_type == 'all':\n",
    "        train = df.loc[:t1year[1]]\n",
    "    else:\n",
    "        print(\"train_type must be one of the following:\")\n",
    "        print('1_year, ','5_year, ','or all')\n",
    "        return(0,0)\n",
    "    return(train, test)"
   ]
  },
  {
   "cell_type": "code",
   "execution_count": 3,
   "metadata": {},
   "outputs": [
    {
     "name": "stdout",
     "output_type": "stream",
     "text": [
      "Requirement already satisfied: sklearn in /opt/conda/lib/python3.6/site-packages (0.0)\n",
      "Requirement already satisfied: scikit-learn in /opt/conda/lib/python3.6/site-packages (from sklearn) (0.20.3)\n",
      "Requirement already satisfied: scipy>=0.13.3 in /opt/conda/lib/python3.6/site-packages (from scikit-learn->sklearn) (1.1.0)\n",
      "Requirement already satisfied: numpy>=1.8.2 in /opt/conda/lib/python3.6/site-packages (from scikit-learn->sklearn) (1.16.3)\n"
     ]
    }
   ],
   "source": [
    "!pip install sklearn"
   ]
  },
  {
   "cell_type": "code",
   "execution_count": 4,
   "metadata": {},
   "outputs": [],
   "source": [
    "X = nas_df[['keltner_indicator', 'bbands_indicator', 'ichimoku_label','macd_indicator', 'rsi_label', 'ease_label', 'cmf_label', 'stochastic_label']]\n",
    "y = nas_df['nas_labels']\n",
    "train_data_1year_nas, test_data_1year_nas = get_recent_test_train(nas_df, '1_year')\n",
    "X_train_1year_nas = train_data_1year_nas[['keltner_indicator', 'bbands_indicator', 'ichimoku_label','macd_indicator', 'rsi_label', 'ease_label', 'cmf_label', 'stochastic_label']]\n",
    "X_test_1year_nas = test_data_1year_nas[['keltner_indicator', 'bbands_indicator', 'ichimoku_label','macd_indicator', 'rsi_label', 'ease_label', 'cmf_label', 'stochastic_label']]\n",
    "y_train_1year_nas = train_data_1year_nas[['nas_labels']]\n",
    "y_test_1year_nas = test_data_1year_nas[['nas_labels']]"
   ]
  },
  {
   "cell_type": "code",
   "execution_count": 5,
   "metadata": {},
   "outputs": [],
   "source": [
    "from sklearn import tree\n",
    "\n",
    "model = tree.DecisionTreeClassifier()\n",
    "\n",
    "model.fit(X_train_1year_nas, y_train_1year_nas)\n",
    "\n",
    "y_predict = model.predict(X_test_1year_nas)"
   ]
  },
  {
   "cell_type": "code",
   "execution_count": 6,
   "metadata": {},
   "outputs": [
    {
     "data": {
      "text/plain": [
       "0.4175824175824176"
      ]
     },
     "execution_count": 6,
     "metadata": {},
     "output_type": "execute_result"
    }
   ],
   "source": [
    "from sklearn.metrics import accuracy_score\n",
    "\n",
    "accuracy_score(y_test_1year_nas, y_predict)"
   ]
  },
  {
   "cell_type": "code",
   "execution_count": 7,
   "metadata": {},
   "outputs": [],
   "source": [
    "tree.export_graphviz(model, out_file='1year_nas_tree.dot', feature_names=X.columns)"
   ]
  },
  {
   "cell_type": "code",
   "execution_count": 8,
   "metadata": {},
   "outputs": [
    {
     "name": "stdout",
     "output_type": "stream",
     "text": [
      "/bin/sh: 1: pip3: not found\n"
     ]
    },
    {
     "data": {
      "text/plain": [
       "<Figure size 640x480 with 1 Axes>"
      ]
     },
     "metadata": {},
     "output_type": "display_data"
    }
   ],
   "source": [
    "# from subprocess import call\n",
    "# !pip install pydot\n",
    "# call(['dot', '-T', 'png', 'tree.dot', '-o', 'tree.png'])\n",
    "!pip3 install pygraphviz\n",
    "import pygraphviz as pgv\n",
    "import networkx as nx\n",
    "import matplotlib.pyplot as plt\n",
    "Gtmp = pgv.AGraph('1year_nas_tree.dot')\n",
    "G = nx.Graph(Gtmp)\n",
    "nx.draw(G)\n",
    "plt.show()"
   ]
  },
  {
   "cell_type": "code",
   "execution_count": 9,
   "metadata": {},
   "outputs": [],
   "source": [
    "import pydot\n",
    "\n",
    "(graph,) = pydot.graph_from_dot_file('1year_nas_tree.dot')\n",
    "graph.write_png('1year_nas_decisiontree.png')"
   ]
  },
  {
   "cell_type": "code",
   "execution_count": 10,
   "metadata": {},
   "outputs": [],
   "source": [
    "X = nas_df[['keltner_indicator', 'bbands_indicator', 'ichimoku_label','macd_indicator', 'rsi_label', 'ease_label', 'cmf_label', 'stochastic_label']]\n",
    "y = nas_df['nas_labels']\n",
    "train_data_5year_nas, test_data_5year_nas = get_recent_test_train(nas_df, '5_year')\n",
    "X_train_5year_nas = train_data_5year_nas[['keltner_indicator', 'bbands_indicator', 'ichimoku_label','macd_indicator', 'rsi_label', 'ease_label', 'cmf_label', 'stochastic_label']]\n",
    "X_test_5year_nas = test_data_5year_nas[['keltner_indicator', 'bbands_indicator', 'ichimoku_label','macd_indicator', 'rsi_label', 'ease_label', 'cmf_label', 'stochastic_label']]\n",
    "y_train_5year_nas = train_data_5year_nas[['nas_labels']]\n",
    "y_test_5year_nas = test_data_5year_nas[['nas_labels']]"
   ]
  },
  {
   "cell_type": "code",
   "execution_count": 11,
   "metadata": {},
   "outputs": [],
   "source": [
    "from sklearn import tree\n",
    "\n",
    "model = tree.DecisionTreeClassifier()\n",
    "\n",
    "model.fit(X_train_5year_nas, y_train_5year_nas)\n",
    "\n",
    "y_predict = model.predict(X_test_5year_nas)"
   ]
  },
  {
   "cell_type": "code",
   "execution_count": 12,
   "metadata": {},
   "outputs": [
    {
     "data": {
      "text/plain": [
       "0.4432234432234432"
      ]
     },
     "execution_count": 12,
     "metadata": {},
     "output_type": "execute_result"
    }
   ],
   "source": [
    "from sklearn.metrics import accuracy_score\n",
    "\n",
    "accuracy_score(y_test_5year_nas, y_predict)"
   ]
  },
  {
   "cell_type": "code",
   "execution_count": 13,
   "metadata": {},
   "outputs": [],
   "source": [
    "tree.export_graphviz(model, out_file='5year_nas_tree.dot', feature_names=X.columns)"
   ]
  },
  {
   "cell_type": "code",
   "execution_count": 14,
   "metadata": {},
   "outputs": [
    {
     "name": "stdout",
     "output_type": "stream",
     "text": [
      "/bin/sh: 1: pip3: not found\n"
     ]
    },
    {
     "data": {
      "image/png": "[encoded data removed]",
      "text/plain": [
       "<Figure size 432x288 with 1 Axes>"
      ]
     },
     "metadata": {},
     "output_type": "display_data"
    }
   ],
   "source": [
    "# from subprocess import call\n",
    "# !pip install pydot\n",
    "# call(['dot', '-T', 'png', 'tree.dot', '-o', 'tree.png'])\n",
    "!pip3 install pygraphviz\n",
    "import pygraphviz as pgv\n",
    "import networkx as nx\n",
    "import matplotlib.pyplot as plt\n",
    "Gtmp = pgv.AGraph('5year_nas_tree.dot')\n",
    "G = nx.Graph(Gtmp)\n",
    "nx.draw(G)\n",
    "plt.show()"
   ]
  },
  {
   "cell_type": "code",
   "execution_count": 15,
   "metadata": {},
   "outputs": [],
   "source": [
    "import pydot\n",
    "\n",
    "(graph,) = pydot.graph_from_dot_file('5year_nas_tree.dot')\n",
    "graph.write_png('5year_nas_decisiontree.png')"
   ]
  },
  {
   "cell_type": "code",
   "execution_count": 16,
   "metadata": {},
   "outputs": [],
   "source": [
    "X = nas_df[['keltner_indicator', 'bbands_indicator', 'ichimoku_label','macd_indicator', 'rsi_label', 'ease_label', 'cmf_label', 'stochastic_label']]\n",
    "y = nas_df['nas_labels']\n",
    "train_data_all_nas, test_data_all_nas = get_recent_test_train(nas_df, 'all')\n",
    "X_train_all_nas = train_data_all_nas[['keltner_indicator', 'bbands_indicator', 'ichimoku_label','macd_indicator', 'rsi_label', 'ease_label', 'cmf_label', 'stochastic_label']]\n",
    "X_test_all_nas = test_data_all_nas[['keltner_indicator', 'bbands_indicator', 'ichimoku_label','macd_indicator', 'rsi_label', 'ease_label', 'cmf_label', 'stochastic_label']]\n",
    "y_train_all_nas = train_data_all_nas[['nas_labels']]\n",
    "y_test_all_nas = test_data_all_nas[['nas_labels']]"
   ]
  },
  {
   "cell_type": "code",
   "execution_count": 17,
   "metadata": {},
   "outputs": [],
   "source": [
    "from sklearn import tree\n",
    "\n",
    "model = tree.DecisionTreeClassifier()\n",
    "\n",
    "model.fit(X_train_all_nas, y_train_all_nas)\n",
    "\n",
    "y_predict = model.predict(X_test_all_nas)"
   ]
  },
  {
   "cell_type": "code",
   "execution_count": 18,
   "metadata": {},
   "outputs": [
    {
     "data": {
      "text/plain": [
       "0.4652014652014652"
      ]
     },
     "execution_count": 18,
     "metadata": {},
     "output_type": "execute_result"
    }
   ],
   "source": [
    "from sklearn.metrics import accuracy_score\n",
    "\n",
    "accuracy_score(y_test_all_nas, y_predict)"
   ]
  },
  {
   "cell_type": "code",
   "execution_count": 19,
   "metadata": {},
   "outputs": [],
   "source": [
    "tree.export_graphviz(model, out_file='all_nas_tree.dot', feature_names=X.columns)"
   ]
  },
  {
   "cell_type": "code",
   "execution_count": 20,
   "metadata": {},
   "outputs": [
    {
     "name": "stdout",
     "output_type": "stream",
     "text": [
      "/bin/sh: 1: pip3: not found\n"
     ]
    },
    {
     "data": {
      "image/png": "[encoded data removed]",
      "text/plain": [
       "<Figure size 432x288 with 1 Axes>"
      ]
     },
     "metadata": {},
     "output_type": "display_data"
    }
   ],
   "source": [
    "# from subprocess import call\n",
    "# !pip install pydot\n",
    "# call(['dot', '-T', 'png', 'tree.dot', '-o', 'tree.png'])\n",
    "!pip3 install pygraphviz\n",
    "import pygraphviz as pgv\n",
    "import networkx as nx\n",
    "import matplotlib.pyplot as plt\n",
    "Gtmp = pgv.AGraph('all_nas_tree.dot')\n",
    "G = nx.Graph(Gtmp)\n",
    "nx.draw(G)\n",
    "plt.show()"
   ]
  },
  {
   "cell_type": "code",
   "execution_count": 21,
   "metadata": {},
   "outputs": [],
   "source": [
    "import pydot\n",
    "\n",
    "(graph,) = pydot.graph_from_dot_file('all_nas_tree.dot')\n",
    "graph.write_png('all_nas_decisiontree.png')"
   ]
  },
  {
   "cell_type": "code",
   "execution_count": 22,
   "metadata": {},
   "outputs": [
    {
     "name": "stdout",
     "output_type": "stream",
     "text": [
      "[[27  4 76]\n",
      " [ 7  2 27]\n",
      " [38  5 87]]\n",
      "              precision    recall  f1-score   support\n",
      "\n",
      "        -1.0       0.38      0.25      0.30       107\n",
      "         0.0       0.18      0.06      0.09        36\n",
      "         1.0       0.46      0.67      0.54       130\n",
      "\n",
      "   micro avg       0.42      0.42      0.42       273\n",
      "   macro avg       0.34      0.33      0.31       273\n",
      "weighted avg       0.39      0.42      0.39       273\n",
      "\n",
      "0.4249084249084249\n"
     ]
    }
   ],
   "source": [
    "from sklearn.ensemble import RandomForestClassifier\n",
    "from sklearn.datasets import make_classification\n",
    "from sklearn.metrics import classification_report, confusion_matrix, accuracy_score\n",
    "\n",
    "X = nas_df[['keltner_indicator', 'bbands_indicator', 'ichimoku_label','macd_indicator', 'rsi_label', 'ease_label', 'cmf_label', 'stochastic_label']]\n",
    "y = nas_df['nas_labels']\n",
    "train_data_1year_nas, test_data_1year_nas = get_recent_test_train(nas_df, '1_year')\n",
    "X_train_1year_nas = train_data_1year_nas[['keltner_indicator', 'bbands_indicator', 'ichimoku_label','macd_indicator', 'rsi_label', 'ease_label', 'cmf_label', 'stochastic_label']]\n",
    "X_test_1year_nas = test_data_1year_nas[['keltner_indicator', 'bbands_indicator', 'ichimoku_label','macd_indicator', 'rsi_label', 'ease_label', 'cmf_label', 'stochastic_label']]\n",
    "y_train_1year_nas = train_data_1year_nas[['nas_labels']]\n",
    "y_test_1year_nas = test_data_1year_nas[['nas_labels']]\n",
    "\n",
    "model = RandomForestClassifier(n_estimators=100)\n",
    "model.fit(X_train_1year_nas, y_train_1year_nas.values.ravel())\n",
    "y_pred = model.predict(X_test_1year_nas)\n",
    "\n",
    "print(confusion_matrix(y_test_1year_nas,y_pred))\n",
    "print(classification_report(y_test_1year_nas,y_pred))\n",
    "print(accuracy_score(y_test_1year_nas, y_pred))"
   ]
  },
  {
   "cell_type": "code",
   "execution_count": 23,
   "metadata": {},
   "outputs": [
    {
     "name": "stdout",
     "output_type": "stream",
     "text": [
      "[[23  3 81]\n",
      " [ 9  1 26]\n",
      " [30  2 98]]\n",
      "              precision    recall  f1-score   support\n",
      "\n",
      "        -1.0       0.37      0.21      0.27       107\n",
      "         0.0       0.17      0.03      0.05        36\n",
      "         1.0       0.48      0.75      0.59       130\n",
      "\n",
      "   micro avg       0.45      0.45      0.45       273\n",
      "   macro avg       0.34      0.33      0.30       273\n",
      "weighted avg       0.40      0.45      0.39       273\n",
      "\n",
      "0.4468864468864469\n"
     ]
    }
   ],
   "source": [
    "from sklearn.ensemble import RandomForestClassifier\n",
    "from sklearn.datasets import make_classification\n",
    "from sklearn.metrics import classification_report, confusion_matrix, accuracy_score\n",
    "\n",
    "X = nas_df[['keltner_indicator', 'bbands_indicator', 'ichimoku_label','macd_indicator', 'rsi_label', 'ease_label', 'cmf_label', 'stochastic_label']]\n",
    "y = nas_df['nas_labels']\n",
    "train_data_5year_nas, test_data_5year_nas = get_recent_test_train(nas_df, '5_year')\n",
    "X_train_5year_nas = train_data_5year_nas[['keltner_indicator', 'bbands_indicator', 'ichimoku_label','macd_indicator', 'rsi_label', 'ease_label', 'cmf_label', 'stochastic_label']]\n",
    "X_test_5year_nas = test_data_5year_nas[['keltner_indicator', 'bbands_indicator', 'ichimoku_label','macd_indicator', 'rsi_label', 'ease_label', 'cmf_label', 'stochastic_label']]\n",
    "y_train_5year_nas = train_data_5year_nas[['nas_labels']]\n",
    "y_test_5year_nas = test_data_5year_nas[['nas_labels']]\n",
    "\n",
    "model = RandomForestClassifier(n_estimators=100)\n",
    "model.fit(X_train_5year_nas, y_train_5year_nas.values.ravel())\n",
    "y_pred = model.predict(X_test_5year_nas)\n",
    "\n",
    "print(confusion_matrix(y_test_5year_nas,y_pred))\n",
    "print(classification_report(y_test_5year_nas,y_pred))\n",
    "print(accuracy_score(y_test_5year_nas, y_pred))"
   ]
  },
  {
   "cell_type": "code",
   "execution_count": 24,
   "metadata": {},
   "outputs": [
    {
     "name": "stdout",
     "output_type": "stream",
     "text": [
      "[[  8   1  98]\n",
      " [  1   0  35]\n",
      " [ 12   0 118]]\n",
      "              precision    recall  f1-score   support\n",
      "\n",
      "        -1.0       0.38      0.07      0.12       107\n",
      "         0.0       0.00      0.00      0.00        36\n",
      "         1.0       0.47      0.91      0.62       130\n",
      "\n",
      "   micro avg       0.46      0.46      0.46       273\n",
      "   macro avg       0.28      0.33      0.25       273\n",
      "weighted avg       0.37      0.46      0.34       273\n",
      "\n",
      "0.46153846153846156\n"
     ]
    }
   ],
   "source": [
    "from sklearn.ensemble import RandomForestClassifier\n",
    "from sklearn.datasets import make_classification\n",
    "from sklearn.metrics import classification_report, confusion_matrix, accuracy_score\n",
    "\n",
    "X = nas_df[['keltner_indicator', 'bbands_indicator', 'ichimoku_label','macd_indicator', 'rsi_label', 'ease_label', 'cmf_label', 'stochastic_label']]\n",
    "y = nas_df['nas_labels']\n",
    "train_data_all_nas, test_data_all_nas = get_recent_test_train(nas_df, 'all')\n",
    "X_train_all_nas = train_data_all_nas[['keltner_indicator', 'bbands_indicator', 'ichimoku_label','macd_indicator', 'rsi_label', 'ease_label', 'cmf_label', 'stochastic_label']]\n",
    "X_test_all_nas = test_data_all_nas[['keltner_indicator', 'bbands_indicator', 'ichimoku_label','macd_indicator', 'rsi_label', 'ease_label', 'cmf_label', 'stochastic_label']]\n",
    "y_train_all_nas = train_data_all_nas[['nas_labels']]\n",
    "y_test_all_nas = test_data_all_nas[['nas_labels']]\n",
    "\n",
    "model = RandomForestClassifier(n_estimators=100)\n",
    "model.fit(X_train_all_nas, y_train_all_nas.values.ravel())\n",
    "y_pred = model.predict(X_test_all_nas)\n",
    "\n",
    "print(confusion_matrix(y_test_all_nas,y_pred))\n",
    "print(classification_report(y_test_all_nas,y_pred))\n",
    "print(accuracy_score(y_test_all_nas, y_pred))"
   ]
  },
  {
   "cell_type": "code",
   "execution_count": 25,
   "metadata": {},
   "outputs": [],
   "source": [
    "b1 = ['1991-04-01','1993-04-30']\n",
    "b2 = ['2001-12-03','2003-12-31']\n",
    "b3 = ['2009-07-01','2011-07-29']\n",
    "\n",
    "def get_boom_test_train(df):\n",
    "    try:\n",
    "        df = df.set_index('Date')\n",
    "    except:\n",
    "        pass\n",
    "    train = pd.concat([df.loc[b1[0]:b1[1]],df.loc[b2[0]:b2[1]]])\n",
    "    test = df.loc[b3[0]:b3[1]]\n",
    "    return(train, test)"
   ]
  },
  {
   "cell_type": "code",
   "execution_count": 26,
   "metadata": {},
   "outputs": [],
   "source": [
    "X = nas_df[['keltner_indicator', 'bbands_indicator', 'ichimoku_label','macd_indicator', 'rsi_label', 'ease_label', 'cmf_label', 'stochastic_label']]\n",
    "y = nas_df['nas_labels']\n",
    "train_data_boom_nas, test_data_boom_nas = get_boom_test_train(nas_df)\n",
    "X_train_boom_nas = train_data_boom_nas[['keltner_indicator', 'bbands_indicator', 'ichimoku_label','macd_indicator', 'rsi_label', 'ease_label', 'cmf_label', 'stochastic_label']]\n",
    "X_test_boom_nas = test_data_boom_nas[['keltner_indicator', 'bbands_indicator', 'ichimoku_label','macd_indicator', 'rsi_label', 'ease_label', 'cmf_label', 'stochastic_label']]\n",
    "y_train_boom_nas = train_data_boom_nas[['nas_labels']]\n",
    "y_test_boom_nas = test_data_boom_nas[['nas_labels']]"
   ]
  },
  {
   "cell_type": "code",
   "execution_count": 27,
   "metadata": {},
   "outputs": [],
   "source": [
    "from sklearn import tree\n",
    "\n",
    "model = tree.DecisionTreeClassifier()\n",
    "\n",
    "model.fit(X_train_boom_nas, y_train_boom_nas)\n",
    "\n",
    "y_predict = model.predict(X_test_boom_nas)"
   ]
  },
  {
   "cell_type": "code",
   "execution_count": 28,
   "metadata": {},
   "outputs": [
    {
     "data": {
      "text/plain": [
       "0.44761904761904764"
      ]
     },
     "execution_count": 28,
     "metadata": {},
     "output_type": "execute_result"
    }
   ],
   "source": [
    "from sklearn.metrics import accuracy_score\n",
    "\n",
    "accuracy_score(y_test_boom_nas, y_predict)"
   ]
  },
  {
   "cell_type": "code",
   "execution_count": 29,
   "metadata": {},
   "outputs": [],
   "source": [
    "tree.export_graphviz(model, out_file='boom_nas_tree.dot', feature_names=X.columns)"
   ]
  },
  {
   "cell_type": "code",
   "execution_count": 30,
   "metadata": {},
   "outputs": [
    {
     "name": "stdout",
     "output_type": "stream",
     "text": [
      "/bin/sh: 1: pip3: not found\n"
     ]
    },
    {
     "data": {
      "image/png": "[encoded data removed]",
      "text/plain": [
       "<Figure size 432x288 with 1 Axes>"
      ]
     },
     "metadata": {},
     "output_type": "display_data"
    }
   ],
   "source": [
    "# from subprocess import call\n",
    "# !pip install pydot\n",
    "# call(['dot', '-T', 'png', 'tree.dot', '-o', 'tree.png'])\n",
    "!pip3 install pygraphviz\n",
    "import pygraphviz as pgv\n",
    "import networkx as nx\n",
    "import matplotlib.pyplot as plt\n",
    "Gtmp = pgv.AGraph('boom_nas_tree.dot')\n",
    "G = nx.Graph(Gtmp)\n",
    "nx.draw(G)\n",
    "plt.show()"
   ]
  },
  {
   "cell_type": "code",
   "execution_count": 31,
   "metadata": {},
   "outputs": [],
   "source": [
    "import pydot\n",
    "\n",
    "(graph,) = pydot.graph_from_dot_file('boom_nas_tree.dot')\n",
    "graph.write_png('boom_nas_decisiontree.png')"
   ]
  },
  {
   "cell_type": "code",
   "execution_count": 32,
   "metadata": {},
   "outputs": [
    {
     "name": "stdout",
     "output_type": "stream",
     "text": [
      "[[ 95   3  97]\n",
      " [ 36   0  25]\n",
      " [119   4 146]]\n",
      "              precision    recall  f1-score   support\n",
      "\n",
      "        -1.0       0.38      0.49      0.43       195\n",
      "         0.0       0.00      0.00      0.00        61\n",
      "         1.0       0.54      0.54      0.54       269\n",
      "\n",
      "   micro avg       0.46      0.46      0.46       525\n",
      "   macro avg       0.31      0.34      0.32       525\n",
      "weighted avg       0.42      0.46      0.44       525\n",
      "\n",
      "0.45904761904761904\n"
     ]
    }
   ],
   "source": [
    "from sklearn.ensemble import RandomForestClassifier\n",
    "from sklearn.datasets import make_classification\n",
    "from sklearn.metrics import classification_report, confusion_matrix, accuracy_score\n",
    "\n",
    "X = nas_df[['keltner_indicator', 'bbands_indicator', 'ichimoku_label','macd_indicator', 'rsi_label', 'ease_label', 'cmf_label', 'stochastic_label']]\n",
    "y = nas_df['nas_labels']\n",
    "train_data_boom_nas, test_data_boom_nas = get_boom_test_train(nas_df)\n",
    "X_train_boom_nas = train_data_boom_nas[['keltner_indicator', 'bbands_indicator', 'ichimoku_label','macd_indicator', 'rsi_label', 'ease_label', 'cmf_label', 'stochastic_label']]\n",
    "X_test_boom_nas = test_data_boom_nas[['keltner_indicator', 'bbands_indicator', 'ichimoku_label','macd_indicator', 'rsi_label', 'ease_label', 'cmf_label', 'stochastic_label']]\n",
    "y_train_boom_nas = train_data_boom_nas[['nas_labels']]\n",
    "y_test_boom_nas = test_data_boom_nas[['nas_labels']]\n",
    "\n",
    "model = RandomForestClassifier(n_estimators=100)\n",
    "model.fit(X_train_boom_nas, y_train_boom_nas.values.ravel())\n",
    "y_pred = model.predict(X_test_boom_nas)\n",
    "\n",
    "print(confusion_matrix(y_test_boom_nas,y_pred))\n",
    "print(classification_report(y_test_boom_nas,y_pred))\n",
    "print(accuracy_score(y_test_boom_nas, y_pred))"
   ]
  },
  {
   "cell_type": "code",
   "execution_count": 33,
   "metadata": {},
   "outputs": [],
   "source": [
    "r1 = ['1989-03-01','1991-03-28']\n",
    "r2 = ['1999-11-01','2001-11-30']\n",
    "r3 = ['2007-06-01','2009-06-30']\n",
    "\n",
    "def get_recession_test_train(df):\n",
    "    try:\n",
    "        df = df.set_index('Date')\n",
    "    except:\n",
    "        pass\n",
    "    train = pd.concat([df.loc[r1[0]:r1[1]],df.loc[r2[0]:r2[1]]])\n",
    "    test = df.loc[r3[0]:r3[1]]\n",
    "    return(train, test)"
   ]
  },
  {
   "cell_type": "code",
   "execution_count": 34,
   "metadata": {},
   "outputs": [],
   "source": [
    "X = nas_df[['keltner_indicator', 'bbands_indicator', 'ichimoku_label','macd_indicator', 'rsi_label', 'ease_label', 'cmf_label', 'stochastic_label']]\n",
    "y = nas_df['nas_labels']\n",
    "train_data_recession_nas, test_data_recession_nas = get_recession_test_train(nas_df)\n",
    "X_train_recession_nas = train_data_recession_nas[['keltner_indicator', 'bbands_indicator', 'ichimoku_label','macd_indicator', 'rsi_label', 'ease_label', 'cmf_label', 'stochastic_label']]\n",
    "X_test_recession_nas = test_data_recession_nas[['keltner_indicator', 'bbands_indicator', 'ichimoku_label','macd_indicator', 'rsi_label', 'ease_label', 'cmf_label', 'stochastic_label']]\n",
    "y_train_recession_nas = train_data_recession_nas[['nas_labels']]\n",
    "y_test_recession_nas = test_data_recession_nas[['nas_labels']]"
   ]
  },
  {
   "cell_type": "code",
   "execution_count": 35,
   "metadata": {},
   "outputs": [],
   "source": [
    "from sklearn import tree\n",
    "\n",
    "model = tree.DecisionTreeClassifier()\n",
    "\n",
    "model.fit(X_train_recession_nas, y_train_recession_nas)\n",
    "\n",
    "y_predict = model.predict(X_test_recession_nas)"
   ]
  },
  {
   "cell_type": "code",
   "execution_count": 36,
   "metadata": {},
   "outputs": [
    {
     "data": {
      "text/plain": [
       "0.41714285714285715"
      ]
     },
     "execution_count": 36,
     "metadata": {},
     "output_type": "execute_result"
    }
   ],
   "source": [
    "from sklearn.metrics import accuracy_score\n",
    "\n",
    "accuracy_score(y_test_recession_nas, y_predict)"
   ]
  },
  {
   "cell_type": "code",
   "execution_count": 37,
   "metadata": {},
   "outputs": [],
   "source": [
    "tree.export_graphviz(model, out_file='recession_nas_tree.dot', feature_names=X.columns)"
   ]
  },
  {
   "cell_type": "code",
   "execution_count": 38,
   "metadata": {},
   "outputs": [
    {
     "name": "stdout",
     "output_type": "stream",
     "text": [
      "/bin/sh: 1: pip3: not found\n"
     ]
    },
    {
     "data": {
      "image/png": "[encoded data removed]",
      "text/plain": [
       "<Figure size 432x288 with 1 Axes>"
      ]
     },
     "metadata": {},
     "output_type": "display_data"
    }
   ],
   "source": [
    "# from subprocess import call\n",
    "# !pip install pydot\n",
    "# call(['dot', '-T', 'png', 'tree.dot', '-o', 'tree.png'])\n",
    "!pip3 install pygraphviz\n",
    "import pygraphviz as pgv\n",
    "import networkx as nx\n",
    "import matplotlib.pyplot as plt\n",
    "Gtmp = pgv.AGraph('recession_nas_tree.dot')\n",
    "G = nx.Graph(Gtmp)\n",
    "nx.draw(G)\n",
    "plt.show()"
   ]
  },
  {
   "cell_type": "code",
   "execution_count": 39,
   "metadata": {},
   "outputs": [],
   "source": [
    "import pydot\n",
    "\n",
    "(graph,) = pydot.graph_from_dot_file('recession_nas_tree.dot')\n",
    "graph.write_png('recession_nas_decisiontree.png')"
   ]
  },
  {
   "cell_type": "code",
   "execution_count": 40,
   "metadata": {},
   "outputs": [
    {
     "name": "stdout",
     "output_type": "stream",
     "text": [
      "[[103   2 128]\n",
      " [ 24   9  53]\n",
      " [ 83   5 118]]\n",
      "              precision    recall  f1-score   support\n",
      "\n",
      "        -1.0       0.49      0.44      0.47       233\n",
      "         0.0       0.56      0.10      0.18        86\n",
      "         1.0       0.39      0.57      0.47       206\n",
      "\n",
      "   micro avg       0.44      0.44      0.44       525\n",
      "   macro avg       0.48      0.37      0.37       525\n",
      "weighted avg       0.46      0.44      0.42       525\n",
      "\n",
      "0.4380952380952381\n"
     ]
    }
   ],
   "source": [
    "from sklearn.ensemble import RandomForestClassifier\n",
    "from sklearn.datasets import make_classification\n",
    "from sklearn.metrics import classification_report, confusion_matrix, accuracy_score\n",
    "\n",
    "X = nas_df[['keltner_indicator', 'bbands_indicator', 'ichimoku_label','macd_indicator', 'rsi_label', 'ease_label', 'cmf_label', 'stochastic_label']]\n",
    "y = nas_df['nas_labels']\n",
    "train_data_recession_nas, test_data_recession_nas = get_recession_test_train(nas_df)\n",
    "X_train_recession_nas = train_data_recession_nas[['keltner_indicator', 'bbands_indicator', 'ichimoku_label','macd_indicator', 'rsi_label', 'ease_label', 'cmf_label', 'stochastic_label']]\n",
    "X_test_recession_nas = test_data_recession_nas[['keltner_indicator', 'bbands_indicator', 'ichimoku_label','macd_indicator', 'rsi_label', 'ease_label', 'cmf_label', 'stochastic_label']]\n",
    "y_train_recession_nas = train_data_recession_nas[['nas_labels']]\n",
    "y_test_recession_nas = test_data_recession_nas[['nas_labels']]\n",
    "\n",
    "model = RandomForestClassifier(n_estimators=100)\n",
    "model.fit(X_train_recession_nas, y_train_recession_nas.values.ravel())\n",
    "y_pred = model.predict(X_test_recession_nas)\n",
    "\n",
    "print(confusion_matrix(y_test_recession_nas,y_pred))\n",
    "print(classification_report(y_test_recession_nas,y_pred))\n",
    "print(accuracy_score(y_test_recession_nas, y_pred))"
   ]
  },
  {
   "cell_type": "code",
   "execution_count": null,
   "metadata": {},
   "outputs": [],
   "source": []
  }
 ],
 "metadata": {
  "kernelspec": {
   "display_name": "Python 3",
   "language": "python",
   "name": "python3"
  },
  "language_info": {
   "codemirror_mode": {
    "name": "ipython",
    "version": 3
   },
   "file_extension": ".py",
   "mimetype": "text/x-python",
   "name": "python",
   "nbconvert_exporter": "python",
   "pygments_lexer": "ipython3",
   "version": "3.6.7"
  }
 },
 "nbformat": 4,
 "nbformat_minor": 2
}
