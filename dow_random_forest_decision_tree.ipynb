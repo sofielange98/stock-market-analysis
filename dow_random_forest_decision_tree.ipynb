{
 "cells": [
  {
   "cell_type": "code",
   "execution_count": 1,
   "metadata": {},
   "outputs": [],
   "source": [
    "import pandas as pd\n",
    "import numpy as np\n",
    "from ta import *\n",
    "dow_df = pd.read_csv('Dow_technical_indicator_labels.csv')"
   ]
  },
  {
   "cell_type": "code",
   "execution_count": 2,
   "metadata": {},
   "outputs": [],
   "source": [
    "test_year_dates = ['8/1/2018','8/30/2019']\n",
    "t1year = ['3/7/2017','7/30/2018']\n",
    "t5year = ['7/1/2013','7/30/2018']\n",
    "\n",
    "# train_type should be ['1_year','5_year','all']\n",
    "def get_recent_test_train(df, train_type):\n",
    "    try:\n",
    "        df = df.set_index('Date')\n",
    "    except:\n",
    "        pass\n",
    "    test = df.loc[test_year_dates[0]:test_year_dates[1]]\n",
    "    if train_type == '1_year':\n",
    "        train = df.loc[t1year[0]:t1year[1]]\n",
    "    elif train_type == '5_year':\n",
    "        train = df.loc[t5year[0]:t5year[1]]\n",
    "    elif train_type == 'all':\n",
    "        train = df.loc[:t1year[1]]\n",
    "    else:\n",
    "        print(\"train_type must be one of the following:\")\n",
    "        print('1_year, ','5_year, ','or all')\n",
    "        return(0,0)\n",
    "    return(train, test)"
   ]
  },
  {
   "cell_type": "code",
   "execution_count": 3,
   "metadata": {},
   "outputs": [
    {
     "name": "stdout",
     "output_type": "stream",
     "text": [
      "Requirement already satisfied: sklearn in /opt/conda/lib/python3.6/site-packages (0.0)\n",
      "Requirement already satisfied: scikit-learn in /opt/conda/lib/python3.6/site-packages (from sklearn) (0.20.3)\n",
      "Requirement already satisfied: numpy>=1.8.2 in /opt/conda/lib/python3.6/site-packages (from scikit-learn->sklearn) (1.16.3)\n",
      "Requirement already satisfied: scipy>=0.13.3 in /opt/conda/lib/python3.6/site-packages (from scikit-learn->sklearn) (1.1.0)\n"
     ]
    }
   ],
   "source": [
    "!pip install sklearn"
   ]
  },
  {
   "cell_type": "code",
   "execution_count": 4,
   "metadata": {},
   "outputs": [],
   "source": [
    "X = dow_df[['keltner_indicator', 'bbands_indicator', 'ichimoku_label','macd_indicator', 'rsi_label', 'ease_label', 'cmf_label', 'stochastic_label']]\n",
    "y = dow_df['dow_labels']\n",
    "train_data_1year_dow, test_data_1year_dow = get_recent_test_train(dow_df, '1_year')\n",
    "X_train_1year_dow = train_data_1year_dow[['keltner_indicator', 'bbands_indicator', 'ichimoku_label','macd_indicator', 'rsi_label', 'ease_label', 'cmf_label', 'stochastic_label']]\n",
    "X_test_1year_dow = test_data_1year_dow[['keltner_indicator', 'bbands_indicator', 'ichimoku_label','macd_indicator', 'rsi_label', 'ease_label', 'cmf_label', 'stochastic_label']]\n",
    "y_train_1year_dow = train_data_1year_dow[['dow_labels']]\n",
    "y_test_1year_dow = test_data_1year_dow[['dow_labels']]"
   ]
  },
  {
   "cell_type": "code",
   "execution_count": 5,
   "metadata": {},
   "outputs": [],
   "source": [
    "from sklearn import tree\n",
    "\n",
    "model = tree.DecisionTreeClassifier()\n",
    "\n",
    "model.fit(X_train_1year_dow, y_train_1year_dow)\n",
    "\n",
    "y_predict = model.predict(X_test_1year_dow)"
   ]
  },
  {
   "cell_type": "code",
   "execution_count": 6,
   "metadata": {},
   "outputs": [
    {
     "data": {
      "text/plain": [
       "0.47619047619047616"
      ]
     },
     "execution_count": 6,
     "metadata": {},
     "output_type": "execute_result"
    }
   ],
   "source": [
    "from sklearn.metrics import accuracy_score\n",
    "\n",
    "accuracy_score(y_test_1year_dow, y_predict)"
   ]
  },
  {
   "cell_type": "code",
   "execution_count": 7,
   "metadata": {},
   "outputs": [],
   "source": [
    "tree.export_graphviz(model, out_file='1year_dow_tree.dot', feature_names=X.columns)"
   ]
  },
  {
   "cell_type": "code",
   "execution_count": 8,
   "metadata": {},
   "outputs": [
    {
     "name": "stdout",
     "output_type": "stream",
     "text": [
      "/bin/sh: 1: pip3: not found\n"
     ]
    },
    {
     "data": {
      "text/plain": [
       "<Figure size 640x480 with 1 Axes>"
      ]
     },
     "metadata": {},
     "output_type": "display_data"
    }
   ],
   "source": [
    "# from subprocess import call\n",
    "# !pip install pydot\n",
    "# call(['dot', '-T', 'png', 'tree.dot', '-o', 'tree.png'])\n",
    "!pip3 install pygraphviz\n",
    "import pygraphviz as pgv\n",
    "import networkx as nx\n",
    "import matplotlib.pyplot as plt\n",
    "Gtmp = pgv.AGraph('1year_dow_tree.dot')\n",
    "G = nx.Graph(Gtmp)\n",
    "nx.draw(G)\n",
    "plt.show()"
   ]
  },
  {
   "cell_type": "code",
   "execution_count": 9,
   "metadata": {},
   "outputs": [],
   "source": [
    "import pydot\n",
    "\n",
    "(graph,) = pydot.graph_from_dot_file('1year_dow_tree.dot')\n",
    "graph.write_png('1year_dow_decisiontree.png')"
   ]
  },
  {
   "cell_type": "code",
   "execution_count": 10,
   "metadata": {},
   "outputs": [
    {
     "data": {
      "text/plain": [
       "0.4725274725274725"
      ]
     },
     "execution_count": 10,
     "metadata": {},
     "output_type": "execute_result"
    }
   ],
   "source": [
    "clf = tree.DecisionTreeClassifier(criterion=\"entropy\", max_depth=3)\n",
    "\n",
    "# Train Decision Tree Classifer\n",
    "clf = clf.fit(X_train_1year_dow, y_train_1year_dow)\n",
    "\n",
    "#Predict the response for test dataset\n",
    "y_pred = clf.predict(X_test_1year_dow)\n",
    "\n",
    "# Model Accuracy, how often is the classifier correct?\n",
    "accuracy_score(y_test_1year_dow, y_pred)"
   ]
  },
  {
   "cell_type": "code",
   "execution_count": 11,
   "metadata": {},
   "outputs": [],
   "source": [
    "tree.export_graphviz(clf, out_file='1year_dow_tree_pruned.dot', feature_names=X.columns)"
   ]
  },
  {
   "cell_type": "code",
   "execution_count": 12,
   "metadata": {},
   "outputs": [
    {
     "name": "stdout",
     "output_type": "stream",
     "text": [
      "/bin/sh: 1: pip3: not found\n"
     ]
    },
    {
     "data": {
      "image/png": "[encoded data removed]",
      "text/plain": [
       "<Figure size 432x288 with 1 Axes>"
      ]
     },
     "metadata": {},
     "output_type": "display_data"
    }
   ],
   "source": [
    "# from subprocess import call\n",
    "# !pip install pydot\n",
    "# call(['dot', '-T', 'png', 'tree.dot', '-o', 'tree.png'])\n",
    "!pip3 install pygraphviz\n",
    "import pygraphviz as pgv\n",
    "import networkx as nx\n",
    "import matplotlib.pyplot as plt\n",
    "Gtmp = pgv.AGraph('1year_dow_tree_pruned.dot')\n",
    "G = nx.Graph(Gtmp)\n",
    "nx.draw(G)\n",
    "plt.show()"
   ]
  },
  {
   "cell_type": "code",
   "execution_count": 13,
   "metadata": {},
   "outputs": [],
   "source": [
    "import pydot\n",
    "\n",
    "(graph,) = pydot.graph_from_dot_file('1year_dow_tree_pruned.dot')\n",
    "graph.write_png('1year_dow_decisiontree_pruned.png')"
   ]
  },
  {
   "cell_type": "code",
   "execution_count": 14,
   "metadata": {},
   "outputs": [],
   "source": [
    "X = dow_df[['keltner_indicator', 'bbands_indicator', 'ichimoku_label','macd_indicator', 'rsi_label', 'ease_label', 'cmf_label', 'stochastic_label']]\n",
    "y = dow_df['dow_labels']\n",
    "train_data_5year_dow, test_data_5year_dow = get_recent_test_train(dow_df, '5_year')\n",
    "X_train_5year_dow = train_data_5year_dow[['keltner_indicator', 'bbands_indicator', 'ichimoku_label','macd_indicator', 'rsi_label', 'ease_label', 'cmf_label', 'stochastic_label']]\n",
    "X_test_5year_dow = test_data_5year_dow[['keltner_indicator', 'bbands_indicator', 'ichimoku_label','macd_indicator', 'rsi_label', 'ease_label', 'cmf_label', 'stochastic_label']]\n",
    "y_train_5year_dow = train_data_5year_dow[['dow_labels']]\n",
    "y_test_5year_dow = test_data_5year_dow[['dow_labels']]"
   ]
  },
  {
   "cell_type": "code",
   "execution_count": 15,
   "metadata": {},
   "outputs": [],
   "source": [
    "from sklearn import tree\n",
    "\n",
    "model = tree.DecisionTreeClassifier()\n",
    "\n",
    "model.fit(X_train_5year_dow, y_train_5year_dow)\n",
    "\n",
    "y_predict = model.predict(X_test_5year_dow)"
   ]
  },
  {
   "cell_type": "code",
   "execution_count": 16,
   "metadata": {},
   "outputs": [
    {
     "data": {
      "text/plain": [
       "0.4468864468864469"
      ]
     },
     "execution_count": 16,
     "metadata": {},
     "output_type": "execute_result"
    }
   ],
   "source": [
    "from sklearn.metrics import accuracy_score\n",
    "\n",
    "accuracy_score(y_test_5year_dow, y_predict)"
   ]
  },
  {
   "cell_type": "code",
   "execution_count": 17,
   "metadata": {},
   "outputs": [],
   "source": [
    "tree.export_graphviz(model, out_file='5year_dow_tree.dot', feature_names=X.columns)"
   ]
  },
  {
   "cell_type": "code",
   "execution_count": 18,
   "metadata": {},
   "outputs": [
    {
     "name": "stdout",
     "output_type": "stream",
     "text": [
      "/bin/sh: 1: pip3: not found\n"
     ]
    },
    {
     "data": {
      "image/png": "[encoded data removed]",
      "text/plain": [
       "<Figure size 432x288 with 1 Axes>"
      ]
     },
     "metadata": {},
     "output_type": "display_data"
    }
   ],
   "source": [
    "# from subprocess import call\n",
    "# !pip install pydot\n",
    "# call(['dot', '-T', 'png', 'tree.dot', '-o', 'tree.png'])\n",
    "!pip3 install pygraphviz\n",
    "import pygraphviz as pgv\n",
    "import networkx as nx\n",
    "import matplotlib.pyplot as plt\n",
    "Gtmp = pgv.AGraph('5year_dow_tree.dot')\n",
    "G = nx.Graph(Gtmp)\n",
    "nx.draw(G)\n",
    "plt.show()"
   ]
  },
  {
   "cell_type": "code",
   "execution_count": 19,
   "metadata": {},
   "outputs": [],
   "source": [
    "import pydot\n",
    "\n",
    "(graph,) = pydot.graph_from_dot_file('5year_dow_tree.dot')\n",
    "graph.write_png('5year_dow_decisiontree.png')"
   ]
  },
  {
   "cell_type": "code",
   "execution_count": 20,
   "metadata": {},
   "outputs": [
    {
     "data": {
      "text/plain": [
       "0.4725274725274725"
      ]
     },
     "execution_count": 20,
     "metadata": {},
     "output_type": "execute_result"
    }
   ],
   "source": [
    "clf = tree.DecisionTreeClassifier(criterion=\"entropy\", max_depth=3)\n",
    "\n",
    "# Train Decision Tree Classifer\n",
    "clf = clf.fit(X_train_5year_dow, y_train_5year_dow)\n",
    "\n",
    "#Predict the response for test dataset\n",
    "y_pred = clf.predict(X_test_5year_dow)\n",
    "\n",
    "# Model Accuracy, how often is the classifier correct?\n",
    "accuracy_score(y_test_5year_dow, y_pred)"
   ]
  },
  {
   "cell_type": "code",
   "execution_count": 21,
   "metadata": {},
   "outputs": [],
   "source": [
    "tree.export_graphviz(clf, out_file='5year_dow_tree_pruned.dot', feature_names=X.columns)"
   ]
  },
  {
   "cell_type": "code",
   "execution_count": 22,
   "metadata": {},
   "outputs": [
    {
     "name": "stdout",
     "output_type": "stream",
     "text": [
      "/bin/sh: 1: pip3: not found\n"
     ]
    },
    {
     "data": {
      "image/png": "[encoded data removed]",
      "text/plain": [
       "<Figure size 432x288 with 1 Axes>"
      ]
     },
     "metadata": {},
     "output_type": "display_data"
    }
   ],
   "source": [
    "# from subprocess import call\n",
    "# !pip install pydot\n",
    "# call(['dot', '-T', 'png', 'tree.dot', '-o', 'tree.png'])\n",
    "!pip3 install pygraphviz\n",
    "import pygraphviz as pgv\n",
    "import networkx as nx\n",
    "import matplotlib.pyplot as plt\n",
    "Gtmp = pgv.AGraph('5year_dow_tree_pruned.dot')\n",
    "G = nx.Graph(Gtmp)\n",
    "nx.draw(G)\n",
    "plt.show()"
   ]
  },
  {
   "cell_type": "code",
   "execution_count": 23,
   "metadata": {},
   "outputs": [],
   "source": [
    "import pydot\n",
    "\n",
    "(graph,) = pydot.graph_from_dot_file('5year_dow_tree_pruned.dot')\n",
    "graph.write_png('5year_dow_decisiontree_pruned.png')"
   ]
  },
  {
   "cell_type": "code",
   "execution_count": 24,
   "metadata": {},
   "outputs": [],
   "source": [
    "X = dow_df[['keltner_indicator', 'bbands_indicator', 'ichimoku_label','macd_indicator', 'rsi_label', 'ease_label', 'cmf_label', 'stochastic_label']]\n",
    "y = dow_df['dow_labels']\n",
    "train_data_all_dow, test_data_all_dow = get_recent_test_train(dow_df, 'all')\n",
    "X_train_all_dow = train_data_all_dow[['keltner_indicator', 'bbands_indicator', 'ichimoku_label','macd_indicator', 'rsi_label', 'ease_label', 'cmf_label', 'stochastic_label']]\n",
    "X_test_all_dow = test_data_all_dow[['keltner_indicator', 'bbands_indicator', 'ichimoku_label','macd_indicator', 'rsi_label', 'ease_label', 'cmf_label', 'stochastic_label']]\n",
    "y_train_all_dow = train_data_all_dow[['dow_labels']]\n",
    "y_test_all_dow = test_data_all_dow[['dow_labels']]"
   ]
  },
  {
   "cell_type": "code",
   "execution_count": 25,
   "metadata": {},
   "outputs": [],
   "source": [
    "from sklearn import tree\n",
    "\n",
    "model = tree.DecisionTreeClassifier()\n",
    "\n",
    "model.fit(X_train_all_dow, y_train_all_dow)\n",
    "\n",
    "y_predict = model.predict(X_test_all_dow)"
   ]
  },
  {
   "cell_type": "code",
   "execution_count": 26,
   "metadata": {},
   "outputs": [
    {
     "data": {
      "text/plain": [
       "0.47619047619047616"
      ]
     },
     "execution_count": 26,
     "metadata": {},
     "output_type": "execute_result"
    }
   ],
   "source": [
    "from sklearn.metrics import accuracy_score\n",
    "\n",
    "accuracy_score(y_test_all_dow, y_predict)"
   ]
  },
  {
   "cell_type": "code",
   "execution_count": 27,
   "metadata": {},
   "outputs": [],
   "source": [
    "tree.export_graphviz(model, out_file='all_dow_tree.dot', feature_names=X.columns)"
   ]
  },
  {
   "cell_type": "code",
   "execution_count": 28,
   "metadata": {},
   "outputs": [
    {
     "name": "stdout",
     "output_type": "stream",
     "text": [
      "/bin/sh: 1: pip3: not found\n"
     ]
    },
    {
     "data": {
      "image/png": "[encoded data removed]",
      "text/plain": [
       "<Figure size 432x288 with 1 Axes>"
      ]
     },
     "metadata": {},
     "output_type": "display_data"
    }
   ],
   "source": [
    "# from subprocess import call\n",
    "# !pip install pydot\n",
    "# call(['dot', '-T', 'png', 'tree.dot', '-o', 'tree.png'])\n",
    "!pip3 install pygraphviz\n",
    "import pygraphviz as pgv\n",
    "import networkx as nx\n",
    "import matplotlib.pyplot as plt\n",
    "Gtmp = pgv.AGraph('all_dow_tree.dot')\n",
    "G = nx.Graph(Gtmp)\n",
    "nx.draw(G)\n",
    "plt.show()"
   ]
  },
  {
   "cell_type": "code",
   "execution_count": 29,
   "metadata": {},
   "outputs": [],
   "source": [
    "import pydot\n",
    "\n",
    "(graph,) = pydot.graph_from_dot_file('all_dow_tree.dot')\n",
    "graph.write_png('all_dow_decisiontree.png')"
   ]
  },
  {
   "cell_type": "code",
   "execution_count": 30,
   "metadata": {},
   "outputs": [
    {
     "data": {
      "text/plain": [
       "0.47985347985347987"
      ]
     },
     "execution_count": 30,
     "metadata": {},
     "output_type": "execute_result"
    }
   ],
   "source": [
    "clf = tree.DecisionTreeClassifier(criterion=\"entropy\", max_depth=3)\n",
    "\n",
    "# Train Decision Tree Classifer\n",
    "clf = clf.fit(X_train_all_dow, y_train_all_dow)\n",
    "\n",
    "#Predict the response for test dataset\n",
    "y_pred = clf.predict(X_test_all_dow)\n",
    "\n",
    "# Model Accuracy, how often is the classifier correct?\n",
    "accuracy_score(y_test_all_dow, y_pred)"
   ]
  },
  {
   "cell_type": "code",
   "execution_count": 31,
   "metadata": {},
   "outputs": [],
   "source": [
    "tree.export_graphviz(clf, out_file='all_dow_tree_pruned.dot', feature_names=X.columns)"
   ]
  },
  {
   "cell_type": "code",
   "execution_count": 32,
   "metadata": {},
   "outputs": [
    {
     "name": "stdout",
     "output_type": "stream",
     "text": [
      "/bin/sh: 1: pip3: not found\n"
     ]
    },
    {
     "data": {
      "image/png": "[encoded data removed]",
      "text/plain": [
       "<Figure size 432x288 with 1 Axes>"
      ]
     },
     "metadata": {},
     "output_type": "display_data"
    }
   ],
   "source": [
    "# from subprocess import call\n",
    "# !pip install pydot\n",
    "# call(['dot', '-T', 'png', 'tree.dot', '-o', 'tree.png'])\n",
    "!pip3 install pygraphviz\n",
    "import pygraphviz as pgv\n",
    "import networkx as nx\n",
    "import matplotlib.pyplot as plt\n",
    "Gtmp = pgv.AGraph('all_dow_tree_pruned.dot')\n",
    "G = nx.Graph(Gtmp)\n",
    "nx.draw(G)\n",
    "plt.show()"
   ]
  },
  {
   "cell_type": "code",
   "execution_count": 33,
   "metadata": {},
   "outputs": [],
   "source": [
    "import pydot\n",
    "\n",
    "(graph,) = pydot.graph_from_dot_file('all_dow_tree_pruned.dot')\n",
    "graph.write_png('all_dow_decisiontree_pruned.png')"
   ]
  },
  {
   "cell_type": "code",
   "execution_count": 34,
   "metadata": {},
   "outputs": [
    {
     "name": "stdout",
     "output_type": "stream",
     "text": [
      "[[ 22   1  90]\n",
      " [  6   1  22]\n",
      " [ 22   4 105]]\n",
      "              precision    recall  f1-score   support\n",
      "\n",
      "        -1.0       0.44      0.19      0.27       113\n",
      "         0.0       0.17      0.03      0.06        29\n",
      "         1.0       0.48      0.80      0.60       131\n",
      "\n",
      "   micro avg       0.47      0.47      0.47       273\n",
      "   macro avg       0.36      0.34      0.31       273\n",
      "weighted avg       0.43      0.47      0.41       273\n",
      "\n",
      "0.46886446886446886\n"
     ]
    }
   ],
   "source": [
    "from sklearn.ensemble import RandomForestClassifier\n",
    "from sklearn.datasets import make_classification\n",
    "from sklearn.metrics import classification_report, confusion_matrix, accuracy_score\n",
    "\n",
    "X = dow_df[['keltner_indicator', 'bbands_indicator', 'ichimoku_label','macd_indicator', 'rsi_label', 'ease_label', 'cmf_label', 'stochastic_label']]\n",
    "y = dow_df['dow_labels']\n",
    "train_data_1year_dow, test_data_1year_dow = get_recent_test_train(dow_df, '1_year')\n",
    "X_train_1year_dow = train_data_1year_dow[['keltner_indicator', 'bbands_indicator', 'ichimoku_label','macd_indicator', 'rsi_label', 'ease_label', 'cmf_label', 'stochastic_label']]\n",
    "X_test_1year_dow = test_data_1year_dow[['keltner_indicator', 'bbands_indicator', 'ichimoku_label','macd_indicator', 'rsi_label', 'ease_label', 'cmf_label', 'stochastic_label']]\n",
    "y_train_1year_dow = train_data_1year_dow[['dow_labels']]\n",
    "y_test_1year_dow = test_data_1year_dow[['dow_labels']]\n",
    "\n",
    "model = RandomForestClassifier(n_estimators=100)\n",
    "model.fit(X_train_1year_dow, y_train_1year_dow.values.ravel())\n",
    "y_pred = model.predict(X_test_1year_dow)\n",
    "\n",
    "print(confusion_matrix(y_test_1year_dow,y_pred))\n",
    "print(classification_report(y_test_1year_dow,y_pred))\n",
    "print(accuracy_score(y_test_1year_dow, y_pred))"
   ]
  },
  {
   "cell_type": "code",
   "execution_count": 35,
   "metadata": {},
   "outputs": [
    {
     "name": "stdout",
     "output_type": "stream",
     "text": [
      "[[28  2 83]\n",
      " [ 7  1 21]\n",
      " [32  1 98]]\n",
      "              precision    recall  f1-score   support\n",
      "\n",
      "        -1.0       0.42      0.25      0.31       113\n",
      "         0.0       0.25      0.03      0.06        29\n",
      "         1.0       0.49      0.75      0.59       131\n",
      "\n",
      "   micro avg       0.47      0.47      0.47       273\n",
      "   macro avg       0.38      0.34      0.32       273\n",
      "weighted avg       0.43      0.47      0.42       273\n",
      "\n",
      "0.4652014652014652\n"
     ]
    }
   ],
   "source": [
    "from sklearn.ensemble import RandomForestClassifier\n",
    "from sklearn.datasets import make_classification\n",
    "from sklearn.metrics import classification_report, confusion_matrix, accuracy_score\n",
    "\n",
    "X = dow_df[['keltner_indicator', 'bbands_indicator', 'ichimoku_label','macd_indicator', 'rsi_label', 'ease_label', 'cmf_label', 'stochastic_label']]\n",
    "y = dow_df['dow_labels']\n",
    "train_data_5year_dow, test_data_5year_dow = get_recent_test_train(dow_df, '5_year')\n",
    "X_train_5year_dow = train_data_5year_dow[['keltner_indicator', 'bbands_indicator', 'ichimoku_label','macd_indicator', 'rsi_label', 'ease_label', 'cmf_label', 'stochastic_label']]\n",
    "X_test_5year_dow = test_data_5year_dow[['keltner_indicator', 'bbands_indicator', 'ichimoku_label','macd_indicator', 'rsi_label', 'ease_label', 'cmf_label', 'stochastic_label']]\n",
    "y_train_5year_dow = train_data_5year_dow[['dow_labels']]\n",
    "y_test_5year_dow = test_data_5year_dow[['dow_labels']]\n",
    "\n",
    "model = RandomForestClassifier(n_estimators=100)\n",
    "model.fit(X_train_5year_dow, y_train_5year_dow.values.ravel())\n",
    "y_pred = model.predict(X_test_5year_dow)\n",
    "\n",
    "print(confusion_matrix(y_test_5year_dow,y_pred))\n",
    "print(classification_report(y_test_5year_dow,y_pred))\n",
    "print(accuracy_score(y_test_5year_dow, y_pred))"
   ]
  },
  {
   "cell_type": "code",
   "execution_count": 36,
   "metadata": {},
   "outputs": [
    {
     "name": "stdout",
     "output_type": "stream",
     "text": [
      "[[ 14   0  99]\n",
      " [  2   0  27]\n",
      " [ 16   1 114]]\n",
      "              precision    recall  f1-score   support\n",
      "\n",
      "        -1.0       0.44      0.12      0.19       113\n",
      "         0.0       0.00      0.00      0.00        29\n",
      "         1.0       0.47      0.87      0.61       131\n",
      "\n",
      "   micro avg       0.47      0.47      0.47       273\n",
      "   macro avg       0.30      0.33      0.27       273\n",
      "weighted avg       0.41      0.47      0.37       273\n",
      "\n",
      "0.46886446886446886\n"
     ]
    }
   ],
   "source": [
    "from sklearn.ensemble import RandomForestClassifier\n",
    "from sklearn.datasets import make_classification\n",
    "from sklearn.metrics import classification_report, confusion_matrix, accuracy_score\n",
    "\n",
    "X = dow_df[['keltner_indicator', 'bbands_indicator', 'ichimoku_label','macd_indicator', 'rsi_label', 'ease_label', 'cmf_label', 'stochastic_label']]\n",
    "y = dow_df['dow_labels']\n",
    "train_data_all_dow, test_data_all_dow = get_recent_test_train(dow_df, 'all')\n",
    "X_train_all_dow = train_data_all_dow[['keltner_indicator', 'bbands_indicator', 'ichimoku_label','macd_indicator', 'rsi_label', 'ease_label', 'cmf_label', 'stochastic_label']]\n",
    "X_test_all_dow = test_data_all_dow[['keltner_indicator', 'bbands_indicator', 'ichimoku_label','macd_indicator', 'rsi_label', 'ease_label', 'cmf_label', 'stochastic_label']]\n",
    "y_train_all_dow = train_data_all_dow[['dow_labels']]\n",
    "y_test_all_dow = test_data_all_dow[['dow_labels']]\n",
    "\n",
    "model = RandomForestClassifier(n_estimators=100)\n",
    "model.fit(X_train_all_dow, y_train_all_dow.values.ravel())\n",
    "y_pred = model.predict(X_test_all_dow)\n",
    "\n",
    "print(confusion_matrix(y_test_all_dow,y_pred))\n",
    "print(classification_report(y_test_all_dow,y_pred))\n",
    "print(accuracy_score(y_test_all_dow, y_pred))"
   ]
  },
  {
   "cell_type": "code",
   "execution_count": 37,
   "metadata": {},
   "outputs": [],
   "source": [
    "b1 = ['4/1/1991','4/30/1993']\n",
    "b2 = ['12/3/2001','12/31/2003']\n",
    "b3 = ['7/1/2009','7/29/2011']\n",
    "\n",
    "def get_boom_test_train(df):\n",
    "    try:\n",
    "        df = df.set_index('Date')\n",
    "    except:\n",
    "        pass\n",
    "    train = pd.concat([df.loc[b1[0]:b1[1]],df.loc[b2[0]:b2[1]]])\n",
    "    test = df.loc[b3[0]:b3[1]]\n",
    "    return(train, test)"
   ]
  },
  {
   "cell_type": "code",
   "execution_count": 38,
   "metadata": {},
   "outputs": [],
   "source": [
    "X = dow_df[['keltner_indicator', 'bbands_indicator', 'ichimoku_label','macd_indicator', 'rsi_label', 'ease_label', 'cmf_label', 'stochastic_label']]\n",
    "y = dow_df['dow_labels']\n",
    "train_data_boom_dow, test_data_boom_dow = get_boom_test_train(dow_df)\n",
    "X_train_boom_dow = train_data_boom_dow[['keltner_indicator', 'bbands_indicator', 'ichimoku_label','macd_indicator', 'rsi_label', 'ease_label', 'cmf_label', 'stochastic_label']]\n",
    "X_test_boom_dow = test_data_boom_dow[['keltner_indicator', 'bbands_indicator', 'ichimoku_label','macd_indicator', 'rsi_label', 'ease_label', 'cmf_label', 'stochastic_label']]\n",
    "y_train_boom_dow = train_data_boom_dow[['dow_labels']]\n",
    "y_test_boom_dow = test_data_boom_dow[['dow_labels']]"
   ]
  },
  {
   "cell_type": "code",
   "execution_count": 39,
   "metadata": {},
   "outputs": [],
   "source": [
    "from sklearn import tree\n",
    "\n",
    "model = tree.DecisionTreeClassifier()\n",
    "\n",
    "model.fit(X_train_boom_dow, y_train_boom_dow)\n",
    "\n",
    "y_predict = model.predict(X_test_boom_dow)"
   ]
  },
  {
   "cell_type": "code",
   "execution_count": 40,
   "metadata": {},
   "outputs": [
    {
     "data": {
      "text/plain": [
       "0.38857142857142857"
      ]
     },
     "execution_count": 40,
     "metadata": {},
     "output_type": "execute_result"
    }
   ],
   "source": [
    "from sklearn.metrics import accuracy_score\n",
    "\n",
    "accuracy_score(y_test_boom_dow, y_predict)"
   ]
  },
  {
   "cell_type": "code",
   "execution_count": 41,
   "metadata": {},
   "outputs": [],
   "source": [
    "tree.export_graphviz(model, out_file='boom_dow_tree.dot', feature_names=X.columns)"
   ]
  },
  {
   "cell_type": "code",
   "execution_count": 42,
   "metadata": {},
   "outputs": [
    {
     "name": "stdout",
     "output_type": "stream",
     "text": [
      "/bin/sh: 1: pip3: not found\n"
     ]
    },
    {
     "data": {
      "image/png": "[encoded data removed]",
      "text/plain": [
       "<Figure size 432x288 with 1 Axes>"
      ]
     },
     "metadata": {},
     "output_type": "display_data"
    }
   ],
   "source": [
    "# from subprocess import call\n",
    "# !pip install pydot\n",
    "# call(['dot', '-T', 'png', 'tree.dot', '-o', 'tree.png'])\n",
    "!pip3 install pygraphviz\n",
    "import pygraphviz as pgv\n",
    "import networkx as nx\n",
    "import matplotlib.pyplot as plt\n",
    "Gtmp = pgv.AGraph('boom_dow_tree.dot')\n",
    "G = nx.Graph(Gtmp)\n",
    "nx.draw(G)\n",
    "plt.show()"
   ]
  },
  {
   "cell_type": "code",
   "execution_count": 43,
   "metadata": {},
   "outputs": [],
   "source": [
    "import pydot\n",
    "\n",
    "(graph,) = pydot.graph_from_dot_file('boom_dow_tree.dot')\n",
    "graph.write_png('boom_dow_decisiontree.png')"
   ]
  },
  {
   "cell_type": "code",
   "execution_count": 44,
   "metadata": {},
   "outputs": [
    {
     "data": {
      "text/plain": [
       "0.40190476190476193"
      ]
     },
     "execution_count": 44,
     "metadata": {},
     "output_type": "execute_result"
    }
   ],
   "source": [
    "clf = tree.DecisionTreeClassifier(criterion=\"entropy\", max_depth=3)\n",
    "\n",
    "# Train Decision Tree Classifer\n",
    "clf = clf.fit(X_train_boom_dow, y_train_boom_dow)\n",
    "\n",
    "#Predict the response for test dataset\n",
    "y_pred = clf.predict(X_test_boom_dow)\n",
    "\n",
    "# Model Accuracy, how often is the classifier correct?\n",
    "accuracy_score(y_test_boom_dow, y_pred)"
   ]
  },
  {
   "cell_type": "code",
   "execution_count": 45,
   "metadata": {},
   "outputs": [],
   "source": [
    "tree.export_graphviz(clf, out_file='boom_dow_tree_pruned.dot', feature_names=X.columns)"
   ]
  },
  {
   "cell_type": "code",
   "execution_count": 46,
   "metadata": {},
   "outputs": [
    {
     "name": "stdout",
     "output_type": "stream",
     "text": [
      "/bin/sh: 1: pip3: not found\n"
     ]
    },
    {
     "data": {
      "image/png": "[encoded data removed]",
      "text/plain": [
       "<Figure size 432x288 with 1 Axes>"
      ]
     },
     "metadata": {},
     "output_type": "display_data"
    }
   ],
   "source": [
    "# from subprocess import call\n",
    "# !pip install pydot\n",
    "# call(['dot', '-T', 'png', 'tree.dot', '-o', 'tree.png'])\n",
    "!pip3 install pygraphviz\n",
    "import pygraphviz as pgv\n",
    "import networkx as nx\n",
    "import matplotlib.pyplot as plt\n",
    "Gtmp = pgv.AGraph('boom_dow_tree_pruned.dot')\n",
    "G = nx.Graph(Gtmp)\n",
    "nx.draw(G)\n",
    "plt.show()"
   ]
  },
  {
   "cell_type": "code",
   "execution_count": 47,
   "metadata": {},
   "outputs": [],
   "source": [
    "import pydot\n",
    "\n",
    "(graph,) = pydot.graph_from_dot_file('boom_dow_tree_pruned.dot')\n",
    "graph.write_png('boom_dow_decisiontree_pruned.png')"
   ]
  },
  {
   "cell_type": "code",
   "execution_count": 48,
   "metadata": {},
   "outputs": [
    {
     "name": "stdout",
     "output_type": "stream",
     "text": [
      "[[113   7  72]\n",
      " [ 45   3  13]\n",
      " [170  11  91]]\n",
      "              precision    recall  f1-score   support\n",
      "\n",
      "        -1.0       0.34      0.59      0.43       192\n",
      "         0.0       0.14      0.05      0.07        61\n",
      "         1.0       0.52      0.33      0.41       272\n",
      "\n",
      "   micro avg       0.39      0.39      0.39       525\n",
      "   macro avg       0.33      0.32      0.30       525\n",
      "weighted avg       0.41      0.39      0.38       525\n",
      "\n",
      "0.3942857142857143\n"
     ]
    }
   ],
   "source": [
    "from sklearn.ensemble import RandomForestClassifier\n",
    "from sklearn.datasets import make_classification\n",
    "from sklearn.metrics import classification_report, confusion_matrix, accuracy_score\n",
    "\n",
    "X = dow_df[['keltner_indicator', 'bbands_indicator', 'ichimoku_label','macd_indicator', 'rsi_label', 'ease_label', 'cmf_label', 'stochastic_label']]\n",
    "y = dow_df['dow_labels']\n",
    "train_data_boom_dow, test_data_boom_dow = get_boom_test_train(dow_df)\n",
    "X_train_boom_dow = train_data_boom_dow[['keltner_indicator', 'bbands_indicator', 'ichimoku_label','macd_indicator', 'rsi_label', 'ease_label', 'cmf_label', 'stochastic_label']]\n",
    "X_test_boom_dow = test_data_boom_dow[['keltner_indicator', 'bbands_indicator', 'ichimoku_label','macd_indicator', 'rsi_label', 'ease_label', 'cmf_label', 'stochastic_label']]\n",
    "y_train_boom_dow = train_data_boom_dow[['dow_labels']]\n",
    "y_test_boom_dow = test_data_boom_dow[['dow_labels']]\n",
    "\n",
    "model = RandomForestClassifier(n_estimators=100)\n",
    "model.fit(X_train_boom_dow, y_train_boom_dow.values.ravel())\n",
    "y_pred = model.predict(X_test_boom_dow)\n",
    "\n",
    "print(confusion_matrix(y_test_boom_dow,y_pred))\n",
    "print(classification_report(y_test_boom_dow,y_pred))\n",
    "print(accuracy_score(y_test_boom_dow, y_pred))"
   ]
  },
  {
   "cell_type": "code",
   "execution_count": 49,
   "metadata": {},
   "outputs": [],
   "source": [
    "r1 = ['3/1/1989','3/28/1991']\n",
    "r2 = ['11/1/1999','11/30/2001']\n",
    "r3 = ['6/1/2007','6/30/2009']\n",
    "\n",
    "def get_recession_test_train(df):\n",
    "    try:\n",
    "        df = df.set_index('Date')\n",
    "    except:\n",
    "        pass\n",
    "    train = pd.concat([df.loc[r1[0]:r1[1]],df.loc[r2[0]:r2[1]]])\n",
    "    test = df.loc[r3[0]:r3[1]]\n",
    "    return(train, test)"
   ]
  },
  {
   "cell_type": "code",
   "execution_count": 50,
   "metadata": {},
   "outputs": [],
   "source": [
    "X = dow_df[['keltner_indicator', 'bbands_indicator', 'ichimoku_label','macd_indicator', 'rsi_label', 'ease_label', 'cmf_label', 'stochastic_label']]\n",
    "y = dow_df['dow_labels']\n",
    "train_data_recession_dow, test_data_recession_dow = get_recession_test_train(dow_df)\n",
    "X_train_recession_dow = train_data_recession_dow[['keltner_indicator', 'bbands_indicator', 'ichimoku_label','macd_indicator', 'rsi_label', 'ease_label', 'cmf_label', 'stochastic_label']]\n",
    "X_test_recession_dow = test_data_recession_dow[['keltner_indicator', 'bbands_indicator', 'ichimoku_label','macd_indicator', 'rsi_label', 'ease_label', 'cmf_label', 'stochastic_label']]\n",
    "y_train_recession_dow = train_data_recession_dow[['dow_labels']]\n",
    "y_test_recession_dow = test_data_recession_dow[['dow_labels']]"
   ]
  },
  {
   "cell_type": "code",
   "execution_count": 51,
   "metadata": {},
   "outputs": [],
   "source": [
    "from sklearn import tree\n",
    "\n",
    "model = tree.DecisionTreeClassifier()\n",
    "\n",
    "model.fit(X_train_recession_dow, y_train_recession_dow)\n",
    "\n",
    "y_predict = model.predict(X_test_recession_dow)"
   ]
  },
  {
   "cell_type": "code",
   "execution_count": 52,
   "metadata": {},
   "outputs": [
    {
     "data": {
      "text/plain": [
       "0.4"
      ]
     },
     "execution_count": 52,
     "metadata": {},
     "output_type": "execute_result"
    }
   ],
   "source": [
    "from sklearn.metrics import accuracy_score\n",
    "\n",
    "accuracy_score(y_test_recession_dow, y_predict)"
   ]
  },
  {
   "cell_type": "code",
   "execution_count": 53,
   "metadata": {},
   "outputs": [],
   "source": [
    "tree.export_graphviz(model, out_file='recession_dow_tree.dot', feature_names=X.columns)"
   ]
  },
  {
   "cell_type": "code",
   "execution_count": 54,
   "metadata": {},
   "outputs": [
    {
     "name": "stdout",
     "output_type": "stream",
     "text": [
      "/bin/sh: 1: pip3: not found\n"
     ]
    },
    {
     "data": {
      "image/png": "[encoded data removed]",
      "text/plain": [
       "<Figure size 432x288 with 1 Axes>"
      ]
     },
     "metadata": {},
     "output_type": "display_data"
    }
   ],
   "source": [
    "# from subprocess import call\n",
    "# !pip install pydot\n",
    "# call(['dot', '-T', 'png', 'tree.dot', '-o', 'tree.png'])\n",
    "!pip3 install pygraphviz\n",
    "import pygraphviz as pgv\n",
    "import networkx as nx\n",
    "import matplotlib.pyplot as plt\n",
    "Gtmp = pgv.AGraph('recession_dow_tree.dot')\n",
    "G = nx.Graph(Gtmp)\n",
    "nx.draw(G)\n",
    "plt.show()"
   ]
  },
  {
   "cell_type": "code",
   "execution_count": 55,
   "metadata": {},
   "outputs": [],
   "source": [
    "import pydot\n",
    "\n",
    "(graph,) = pydot.graph_from_dot_file('recession_dow_tree.dot')\n",
    "graph.write_png('recession_dow_decisiontree.png')"
   ]
  },
  {
   "cell_type": "code",
   "execution_count": 56,
   "metadata": {},
   "outputs": [
    {
     "data": {
      "text/plain": [
       "0.36"
      ]
     },
     "execution_count": 56,
     "metadata": {},
     "output_type": "execute_result"
    }
   ],
   "source": [
    "clf = tree.DecisionTreeClassifier(criterion=\"entropy\", max_depth=3)\n",
    "\n",
    "# Train Decision Tree Classifer\n",
    "clf = clf.fit(X_train_recession_dow, y_train_recession_dow)\n",
    "\n",
    "#Predict the response for test dataset\n",
    "y_pred = clf.predict(X_test_recession_dow)\n",
    "\n",
    "# Model Accuracy, how often is the classifier correct?\n",
    "accuracy_score(y_test_recession_dow, y_pred)"
   ]
  },
  {
   "cell_type": "code",
   "execution_count": 57,
   "metadata": {},
   "outputs": [],
   "source": [
    "tree.export_graphviz(clf, out_file='recession_dow_tree_pruned.dot', feature_names=X.columns)"
   ]
  },
  {
   "cell_type": "code",
   "execution_count": 58,
   "metadata": {},
   "outputs": [
    {
     "name": "stdout",
     "output_type": "stream",
     "text": [
      "/bin/sh: 1: pip3: not found\n"
     ]
    },
    {
     "data": {
      "image/png": "[encoded data removed]",
      "text/plain": [
       "<Figure size 432x288 with 1 Axes>"
      ]
     },
     "metadata": {},
     "output_type": "display_data"
    }
   ],
   "source": [
    "# from subprocess import call\n",
    "# !pip install pydot\n",
    "# call(['dot', '-T', 'png', 'tree.dot', '-o', 'tree.png'])\n",
    "!pip3 install pygraphviz\n",
    "import pygraphviz as pgv\n",
    "import networkx as nx\n",
    "import matplotlib.pyplot as plt\n",
    "Gtmp = pgv.AGraph('recession_dow_tree_pruned.dot')\n",
    "G = nx.Graph(Gtmp)\n",
    "nx.draw(G)\n",
    "plt.show()"
   ]
  },
  {
   "cell_type": "code",
   "execution_count": 59,
   "metadata": {},
   "outputs": [],
   "source": [
    "import pydot\n",
    "\n",
    "(graph,) = pydot.graph_from_dot_file('recession_dow_tree_pruned.dot')\n",
    "graph.write_png('recession_dow_decisiontree_pruned.png')"
   ]
  },
  {
   "cell_type": "code",
   "execution_count": 60,
   "metadata": {},
   "outputs": [
    {
     "name": "stdout",
     "output_type": "stream",
     "text": [
      "[[ 66   1 182]\n",
      " [ 24   1  85]\n",
      " [ 36   0 130]]\n",
      "              precision    recall  f1-score   support\n",
      "\n",
      "        -1.0       0.52      0.27      0.35       249\n",
      "         0.0       0.50      0.01      0.02       110\n",
      "         1.0       0.33      0.78      0.46       166\n",
      "\n",
      "   micro avg       0.38      0.38      0.38       525\n",
      "   macro avg       0.45      0.35      0.28       525\n",
      "weighted avg       0.46      0.38      0.32       525\n",
      "\n",
      "0.37523809523809526\n"
     ]
    }
   ],
   "source": [
    "from sklearn.ensemble import RandomForestClassifier\n",
    "from sklearn.datasets import make_classification\n",
    "from sklearn.metrics import classification_report, confusion_matrix, accuracy_score\n",
    "\n",
    "X = dow_df[['keltner_indicator', 'bbands_indicator', 'ichimoku_label','macd_indicator', 'rsi_label', 'ease_label', 'cmf_label', 'stochastic_label']]\n",
    "y = dow_df['dow_labels']\n",
    "train_data_recession_dow, test_data_recession_dow = get_recession_test_train(dow_df)\n",
    "X_train_recession_dow = train_data_recession_dow[['keltner_indicator', 'bbands_indicator', 'ichimoku_label','macd_indicator', 'rsi_label', 'ease_label', 'cmf_label', 'stochastic_label']]\n",
    "X_test_recession_dow = test_data_recession_dow[['keltner_indicator', 'bbands_indicator', 'ichimoku_label','macd_indicator', 'rsi_label', 'ease_label', 'cmf_label', 'stochastic_label']]\n",
    "y_train_recession_dow = train_data_recession_dow[['dow_labels']]\n",
    "y_test_recession_dow = test_data_recession_dow[['dow_labels']]\n",
    "\n",
    "model = RandomForestClassifier(n_estimators=100)\n",
    "model.fit(X_train_recession_dow, y_train_recession_dow.values.ravel())\n",
    "y_pred = model.predict(X_test_recession_dow)\n",
    "\n",
    "print(confusion_matrix(y_test_recession_dow,y_pred))\n",
    "print(classification_report(y_test_recession_dow,y_pred))\n",
    "print(accuracy_score(y_test_recession_dow, y_pred))"
   ]
  },
  {
   "cell_type": "code",
   "execution_count": null,
   "metadata": {},
   "outputs": [],
   "source": []
  }
 ],
 "metadata": {
  "kernelspec": {
   "display_name": "Python 3",
   "language": "python",
   "name": "python3"
  },
  "language_info": {
   "codemirror_mode": {
    "name": "ipython",
    "version": 3
   },
   "file_extension": ".py",
   "mimetype": "text/x-python",
   "name": "python",
   "nbconvert_exporter": "python",
   "pygments_lexer": "ipython3",
   "version": "3.6.7"
  }
 },
 "nbformat": 4,
 "nbformat_minor": 2
}
