{
 "cells": [
  {
   "cell_type": "code",
   "execution_count": 1,
   "metadata": {},
   "outputs": [],
   "source": [
    "import pandas as pd\n",
    "import numpy as np\n",
    "from ta import *\n",
    "dow_df = pd.read_csv('Dow_technical_indicator_labels.csv')"
   ]
  },
  {
   "cell_type": "code",
   "execution_count": 2,
   "metadata": {},
   "outputs": [],
   "source": [
    "test_year_dates = ['8/1/2018','8/30/2019']\n",
    "t1year = ['3/7/2017','7/30/2018']\n",
    "t5year = ['7/1/2013','7/30/2018']\n",
    "\n",
    "# train_type should be ['1_year','5_year','all']\n",
    "def get_recent_test_train(df, train_type):\n",
    "    try:\n",
    "        df = df.set_index('Date')\n",
    "    except:\n",
    "        pass\n",
    "    test = df.loc[test_year_dates[0]:test_year_dates[1]]\n",
    "    if train_type == '1_year':\n",
    "        train = df.loc[t1year[0]:t1year[1]]\n",
    "    elif train_type == '5_year':\n",
    "        train = df.loc[t5year[0]:t5year[1]]\n",
    "    elif train_type == 'all':\n",
    "        train = df.loc[:t1year[1]]\n",
    "    else:\n",
    "        print(\"train_type must be one of the following:\")\n",
    "        print('1_year, ','5_year, ','or all')\n",
    "        return(0,0)\n",
    "    return(train, test)"
   ]
  },
  {
   "cell_type": "code",
   "execution_count": 3,
   "metadata": {},
   "outputs": [
    {
     "name": "stdout",
     "output_type": "stream",
     "text": [
      "Collecting sklearn\n",
      "Requirement already satisfied: scikit-learn in /opt/conda/lib/python3.6/site-packages (from sklearn) (0.20.3)\n",
      "Requirement already satisfied: scipy>=0.13.3 in /opt/conda/lib/python3.6/site-packages (from scikit-learn->sklearn) (1.1.0)\n",
      "Requirement already satisfied: numpy>=1.8.2 in /opt/conda/lib/python3.6/site-packages (from scikit-learn->sklearn) (1.16.3)\n",
      "Installing collected packages: sklearn\n",
      "Successfully installed sklearn-0.0\n"
     ]
    }
   ],
   "source": [
    "!pip install sklearn"
   ]
  },
  {
   "cell_type": "code",
   "execution_count": 4,
   "metadata": {},
   "outputs": [],
   "source": [
    "X = dow_df[['keltner_indicator', 'bbands_indicator', 'ichimoku_label','macd_indicator', 'rsi_label', 'ease_label', 'cmf_label', 'stochastic_label']]\n",
    "y = dow_df['dow_labels']\n",
    "train_data_1year_dow, test_data_1year_dow = get_recent_test_train(dow_df, '1_year')\n",
    "X_train_1year_dow = train_data_1year_dow[['keltner_indicator', 'bbands_indicator', 'ichimoku_label','macd_indicator', 'rsi_label', 'ease_label', 'cmf_label', 'stochastic_label']]\n",
    "X_test_1year_dow = test_data_1year_dow[['keltner_indicator', 'bbands_indicator', 'ichimoku_label','macd_indicator', 'rsi_label', 'ease_label', 'cmf_label', 'stochastic_label']]\n",
    "y_train_1year_dow = train_data_1year_dow[['dow_labels']]\n",
    "y_test_1year_dow = test_data_1year_dow[['dow_labels']]"
   ]
  },
  {
   "cell_type": "code",
   "execution_count": 5,
   "metadata": {},
   "outputs": [],
   "source": [
    "from sklearn import tree\n",
    "\n",
    "model = tree.DecisionTreeClassifier()\n",
    "\n",
    "model.fit(X_train_1year_dow, y_train_1year_dow)\n",
    "\n",
    "y_predict = model.predict(X_test_1year_dow)"
   ]
  },
  {
   "cell_type": "code",
   "execution_count": 6,
   "metadata": {},
   "outputs": [
    {
     "data": {
      "text/plain": [
       "0.4725274725274725"
      ]
     },
     "execution_count": 6,
     "metadata": {},
     "output_type": "execute_result"
    }
   ],
   "source": [
    "from sklearn.metrics import accuracy_score\n",
    "\n",
    "accuracy_score(y_test_1year_dow, y_predict)"
   ]
  },
  {
   "cell_type": "code",
   "execution_count": 7,
   "metadata": {},
   "outputs": [],
   "source": [
    "tree.export_graphviz(model, out_file='1year_dow_tree.dot', feature_names=X.columns)"
   ]
  },
  {
   "cell_type": "code",
   "execution_count": 8,
   "metadata": {},
   "outputs": [
    {
     "name": "stdout",
     "output_type": "stream",
     "text": [
      "/bin/sh: 1: pip3: not found\n"
     ]
    },
    {
     "data": {
      "text/plain": [
       "<Figure size 640x480 with 1 Axes>"
      ]
     },
     "metadata": {},
     "output_type": "display_data"
    }
   ],
   "source": [
    "# from subprocess import call\n",
    "# !pip install pydot\n",
    "# call(['dot', '-T', 'png', 'tree.dot', '-o', 'tree.png'])\n",
    "!pip3 install pygraphviz\n",
    "import pygraphviz as pgv\n",
    "import networkx as nx\n",
    "import matplotlib.pyplot as plt\n",
    "Gtmp = pgv.AGraph('1year_dow_tree.dot')\n",
    "G = nx.Graph(Gtmp)\n",
    "nx.draw(G)\n",
    "plt.show()"
   ]
  },
  {
   "cell_type": "code",
   "execution_count": 9,
   "metadata": {},
   "outputs": [],
   "source": [
    "import pydot\n",
    "\n",
    "(graph,) = pydot.graph_from_dot_file('1year_dow_tree.dot')\n",
    "graph.write_png('1year_dow_decisiontree.png')"
   ]
  },
  {
   "cell_type": "code",
   "execution_count": 10,
   "metadata": {},
   "outputs": [],
   "source": [
    "X = dow_df[['keltner_indicator', 'bbands_indicator', 'ichimoku_label','macd_indicator', 'rsi_label', 'ease_label', 'cmf_label', 'stochastic_label']]\n",
    "y = dow_df['dow_labels']\n",
    "train_data_5year_dow, test_data_5year_dow = get_recent_test_train(dow_df, '5_year')\n",
    "X_train_5year_dow = train_data_5year_dow[['keltner_indicator', 'bbands_indicator', 'ichimoku_label','macd_indicator', 'rsi_label', 'ease_label', 'cmf_label', 'stochastic_label']]\n",
    "X_test_5year_dow = test_data_5year_dow[['keltner_indicator', 'bbands_indicator', 'ichimoku_label','macd_indicator', 'rsi_label', 'ease_label', 'cmf_label', 'stochastic_label']]\n",
    "y_train_5year_dow = train_data_5year_dow[['dow_labels']]\n",
    "y_test_5year_dow = test_data_5year_dow[['dow_labels']]"
   ]
  },
  {
   "cell_type": "code",
   "execution_count": 11,
   "metadata": {},
   "outputs": [],
   "source": [
    "from sklearn import tree\n",
    "\n",
    "model = tree.DecisionTreeClassifier()\n",
    "\n",
    "model.fit(X_train_5year_dow, y_train_5year_dow)\n",
    "\n",
    "y_predict = model.predict(X_test_5year_dow)"
   ]
  },
  {
   "cell_type": "code",
   "execution_count": 12,
   "metadata": {},
   "outputs": [
    {
     "data": {
      "text/plain": [
       "0.45054945054945056"
      ]
     },
     "execution_count": 12,
     "metadata": {},
     "output_type": "execute_result"
    }
   ],
   "source": [
    "from sklearn.metrics import accuracy_score\n",
    "\n",
    "accuracy_score(y_test_5year_dow, y_predict)"
   ]
  },
  {
   "cell_type": "code",
   "execution_count": 13,
   "metadata": {},
   "outputs": [],
   "source": [
    "tree.export_graphviz(model, out_file='5year_dow_tree.dot', feature_names=X.columns)"
   ]
  },
  {
   "cell_type": "code",
   "execution_count": 14,
   "metadata": {},
   "outputs": [
    {
     "name": "stdout",
     "output_type": "stream",
     "text": [
      "/bin/sh: 1: pip3: not found\n"
     ]
    },
    {
     "data": {
      "image/png": "[encoded data removed]",
      "text/plain": [
       "<Figure size 432x288 with 1 Axes>"
      ]
     },
     "metadata": {},
     "output_type": "display_data"
    }
   ],
   "source": [
    "# from subprocess import call\n",
    "# !pip install pydot\n",
    "# call(['dot', '-T', 'png', 'tree.dot', '-o', 'tree.png'])\n",
    "!pip3 install pygraphviz\n",
    "import pygraphviz as pgv\n",
    "import networkx as nx\n",
    "import matplotlib.pyplot as plt\n",
    "Gtmp = pgv.AGraph('5year_dow_tree.dot')\n",
    "G = nx.Graph(Gtmp)\n",
    "nx.draw(G)\n",
    "plt.show()"
   ]
  },
  {
   "cell_type": "code",
   "execution_count": 15,
   "metadata": {},
   "outputs": [],
   "source": [
    "import pydot\n",
    "\n",
    "(graph,) = pydot.graph_from_dot_file('5year_dow_tree.dot')\n",
    "graph.write_png('5year_dow_decisiontree.png')"
   ]
  },
  {
   "cell_type": "code",
   "execution_count": 16,
   "metadata": {},
   "outputs": [],
   "source": [
    "X = dow_df[['keltner_indicator', 'bbands_indicator', 'ichimoku_label','macd_indicator', 'rsi_label', 'ease_label', 'cmf_label', 'stochastic_label']]\n",
    "y = dow_df['dow_labels']\n",
    "train_data_all_dow, test_data_all_dow = get_recent_test_train(dow_df, 'all')\n",
    "X_train_all_dow = train_data_all_dow[['keltner_indicator', 'bbands_indicator', 'ichimoku_label','macd_indicator', 'rsi_label', 'ease_label', 'cmf_label', 'stochastic_label']]\n",
    "X_test_all_dow = test_data_all_dow[['keltner_indicator', 'bbands_indicator', 'ichimoku_label','macd_indicator', 'rsi_label', 'ease_label', 'cmf_label', 'stochastic_label']]\n",
    "y_train_all_dow = train_data_all_dow[['dow_labels']]\n",
    "y_test_all_dow = test_data_all_dow[['dow_labels']]"
   ]
  },
  {
   "cell_type": "code",
   "execution_count": 17,
   "metadata": {},
   "outputs": [],
   "source": [
    "from sklearn import tree\n",
    "\n",
    "model = tree.DecisionTreeClassifier()\n",
    "\n",
    "model.fit(X_train_all_dow, y_train_all_dow)\n",
    "\n",
    "y_predict = model.predict(X_test_all_dow)"
   ]
  },
  {
   "cell_type": "code",
   "execution_count": 18,
   "metadata": {},
   "outputs": [
    {
     "data": {
      "text/plain": [
       "0.47985347985347987"
      ]
     },
     "execution_count": 18,
     "metadata": {},
     "output_type": "execute_result"
    }
   ],
   "source": [
    "from sklearn.metrics import accuracy_score\n",
    "\n",
    "accuracy_score(y_test_all_dow, y_predict)"
   ]
  },
  {
   "cell_type": "code",
   "execution_count": 19,
   "metadata": {},
   "outputs": [],
   "source": [
    "tree.export_graphviz(model, out_file='all_dow_tree.dot', feature_names=X.columns)"
   ]
  },
  {
   "cell_type": "code",
   "execution_count": 20,
   "metadata": {},
   "outputs": [
    {
     "name": "stdout",
     "output_type": "stream",
     "text": [
      "/bin/sh: 1: pip3: not found\n"
     ]
    },
    {
     "data": {
      "image/png": "[encoded data removed]",
      "text/plain": [
       "<Figure size 432x288 with 1 Axes>"
      ]
     },
     "metadata": {},
     "output_type": "display_data"
    }
   ],
   "source": [
    "# from subprocess import call\n",
    "# !pip install pydot\n",
    "# call(['dot', '-T', 'png', 'tree.dot', '-o', 'tree.png'])\n",
    "!pip3 install pygraphviz\n",
    "import pygraphviz as pgv\n",
    "import networkx as nx\n",
    "import matplotlib.pyplot as plt\n",
    "Gtmp = pgv.AGraph('all_dow_tree.dot')\n",
    "G = nx.Graph(Gtmp)\n",
    "nx.draw(G)\n",
    "plt.show()"
   ]
  },
  {
   "cell_type": "code",
   "execution_count": 21,
   "metadata": {},
   "outputs": [],
   "source": [
    "import pydot\n",
    "\n",
    "(graph,) = pydot.graph_from_dot_file('all_dow_tree.dot')\n",
    "graph.write_png('all_dow_decisiontree.png')"
   ]
  },
  {
   "cell_type": "code",
   "execution_count": 22,
   "metadata": {},
   "outputs": [
    {
     "name": "stdout",
     "output_type": "stream",
     "text": [
      "[[ 23   1  89]\n",
      " [  5   2  22]\n",
      " [ 22   5 104]]\n",
      "              precision    recall  f1-score   support\n",
      "\n",
      "        -1.0       0.46      0.20      0.28       113\n",
      "         0.0       0.25      0.07      0.11        29\n",
      "         1.0       0.48      0.79      0.60       131\n",
      "\n",
      "   micro avg       0.47      0.47      0.47       273\n",
      "   macro avg       0.40      0.36      0.33       273\n",
      "weighted avg       0.45      0.47      0.42       273\n",
      "\n",
      "0.4725274725274725\n"
     ]
    }
   ],
   "source": [
    "from sklearn.ensemble import RandomForestClassifier\n",
    "from sklearn.datasets import make_classification\n",
    "from sklearn.metrics import classification_report, confusion_matrix, accuracy_score\n",
    "\n",
    "X = dow_df[['keltner_indicator', 'bbands_indicator', 'ichimoku_label','macd_indicator', 'rsi_label', 'ease_label', 'cmf_label', 'stochastic_label']]\n",
    "y = dow_df['dow_labels']\n",
    "train_data_1year_dow, test_data_1year_dow = get_recent_test_train(dow_df, '1_year')\n",
    "X_train_1year_dow = train_data_1year_dow[['keltner_indicator', 'bbands_indicator', 'ichimoku_label','macd_indicator', 'rsi_label', 'ease_label', 'cmf_label', 'stochastic_label']]\n",
    "X_test_1year_dow = test_data_1year_dow[['keltner_indicator', 'bbands_indicator', 'ichimoku_label','macd_indicator', 'rsi_label', 'ease_label', 'cmf_label', 'stochastic_label']]\n",
    "y_train_1year_dow = train_data_1year_dow[['dow_labels']]\n",
    "y_test_1year_dow = test_data_1year_dow[['dow_labels']]\n",
    "\n",
    "model = RandomForestClassifier(n_estimators=100)\n",
    "model.fit(X_train_1year_dow, y_train_1year_dow.values.ravel())\n",
    "y_pred = model.predict(X_test_1year_dow)\n",
    "\n",
    "print(confusion_matrix(y_test_1year_dow,y_pred))\n",
    "print(classification_report(y_test_1year_dow,y_pred))\n",
    "print(accuracy_score(y_test_1year_dow, y_pred))"
   ]
  },
  {
   "cell_type": "code",
   "execution_count": 23,
   "metadata": {},
   "outputs": [
    {
     "name": "stdout",
     "output_type": "stream",
     "text": [
      "[[30  2 81]\n",
      " [ 7  1 21]\n",
      " [40  1 90]]\n",
      "              precision    recall  f1-score   support\n",
      "\n",
      "        -1.0       0.39      0.27      0.32       113\n",
      "         0.0       0.25      0.03      0.06        29\n",
      "         1.0       0.47      0.69      0.56       131\n",
      "\n",
      "   micro avg       0.44      0.44      0.44       273\n",
      "   macro avg       0.37      0.33      0.31       273\n",
      "weighted avg       0.41      0.44      0.40       273\n",
      "\n",
      "0.4432234432234432\n"
     ]
    }
   ],
   "source": [
    "from sklearn.ensemble import RandomForestClassifier\n",
    "from sklearn.datasets import make_classification\n",
    "from sklearn.metrics import classification_report, confusion_matrix, accuracy_score\n",
    "\n",
    "X = dow_df[['keltner_indicator', 'bbands_indicator', 'ichimoku_label','macd_indicator', 'rsi_label', 'ease_label', 'cmf_label', 'stochastic_label']]\n",
    "y = dow_df['dow_labels']\n",
    "train_data_5year_dow, test_data_5year_dow = get_recent_test_train(dow_df, '5_year')\n",
    "X_train_5year_dow = train_data_5year_dow[['keltner_indicator', 'bbands_indicator', 'ichimoku_label','macd_indicator', 'rsi_label', 'ease_label', 'cmf_label', 'stochastic_label']]\n",
    "X_test_5year_dow = test_data_5year_dow[['keltner_indicator', 'bbands_indicator', 'ichimoku_label','macd_indicator', 'rsi_label', 'ease_label', 'cmf_label', 'stochastic_label']]\n",
    "y_train_5year_dow = train_data_5year_dow[['dow_labels']]\n",
    "y_test_5year_dow = test_data_5year_dow[['dow_labels']]\n",
    "\n",
    "model = RandomForestClassifier(n_estimators=100)\n",
    "model.fit(X_train_5year_dow, y_train_5year_dow.values.ravel())\n",
    "y_pred = model.predict(X_test_5year_dow)\n",
    "\n",
    "print(confusion_matrix(y_test_5year_dow,y_pred))\n",
    "print(classification_report(y_test_5year_dow,y_pred))\n",
    "print(accuracy_score(y_test_5year_dow, y_pred))"
   ]
  },
  {
   "cell_type": "code",
   "execution_count": 24,
   "metadata": {},
   "outputs": [
    {
     "name": "stdout",
     "output_type": "stream",
     "text": [
      "[[ 13   0 100]\n",
      " [  1   0  28]\n",
      " [ 13   1 117]]\n",
      "              precision    recall  f1-score   support\n",
      "\n",
      "        -1.0       0.48      0.12      0.19       113\n",
      "         0.0       0.00      0.00      0.00        29\n",
      "         1.0       0.48      0.89      0.62       131\n",
      "\n",
      "   micro avg       0.48      0.48      0.48       273\n",
      "   macro avg       0.32      0.34      0.27       273\n",
      "weighted avg       0.43      0.48      0.38       273\n",
      "\n",
      "0.47619047619047616\n"
     ]
    }
   ],
   "source": [
    "from sklearn.ensemble import RandomForestClassifier\n",
    "from sklearn.datasets import make_classification\n",
    "from sklearn.metrics import classification_report, confusion_matrix, accuracy_score\n",
    "\n",
    "X = dow_df[['keltner_indicator', 'bbands_indicator', 'ichimoku_label','macd_indicator', 'rsi_label', 'ease_label', 'cmf_label', 'stochastic_label']]\n",
    "y = dow_df['dow_labels']\n",
    "train_data_all_dow, test_data_all_dow = get_recent_test_train(dow_df, 'all')\n",
    "X_train_all_dow = train_data_all_dow[['keltner_indicator', 'bbands_indicator', 'ichimoku_label','macd_indicator', 'rsi_label', 'ease_label', 'cmf_label', 'stochastic_label']]\n",
    "X_test_all_dow = test_data_all_dow[['keltner_indicator', 'bbands_indicator', 'ichimoku_label','macd_indicator', 'rsi_label', 'ease_label', 'cmf_label', 'stochastic_label']]\n",
    "y_train_all_dow = train_data_all_dow[['dow_labels']]\n",
    "y_test_all_dow = test_data_all_dow[['dow_labels']]\n",
    "\n",
    "model = RandomForestClassifier(n_estimators=100)\n",
    "model.fit(X_train_all_dow, y_train_all_dow.values.ravel())\n",
    "y_pred = model.predict(X_test_all_dow)\n",
    "\n",
    "print(confusion_matrix(y_test_all_dow,y_pred))\n",
    "print(classification_report(y_test_all_dow,y_pred))\n",
    "print(accuracy_score(y_test_all_dow, y_pred))"
   ]
  },
  {
   "cell_type": "code",
   "execution_count": 25,
   "metadata": {},
   "outputs": [],
   "source": [
    "b1 = ['4/1/1991','4/30/1993']\n",
    "b2 = ['12/3/2001','12/31/2003']\n",
    "b3 = ['7/1/2009','7/29/2011']\n",
    "\n",
    "def get_boom_test_train(df):\n",
    "    try:\n",
    "        df = df.set_index('Date')\n",
    "    except:\n",
    "        pass\n",
    "    train = pd.concat([df.loc[b1[0]:b1[1]],df.loc[b2[0]:b2[1]]])\n",
    "    test = df.loc[b3[0]:b3[1]]\n",
    "    return(train, test)"
   ]
  },
  {
   "cell_type": "code",
   "execution_count": 26,
   "metadata": {},
   "outputs": [],
   "source": [
    "X = dow_df[['keltner_indicator', 'bbands_indicator', 'ichimoku_label','macd_indicator', 'rsi_label', 'ease_label', 'cmf_label', 'stochastic_label']]\n",
    "y = dow_df['dow_labels']\n",
    "train_data_boom_dow, test_data_boom_dow = get_boom_test_train(dow_df)\n",
    "X_train_boom_dow = train_data_boom_dow[['keltner_indicator', 'bbands_indicator', 'ichimoku_label','macd_indicator', 'rsi_label', 'ease_label', 'cmf_label', 'stochastic_label']]\n",
    "X_test_boom_dow = test_data_boom_dow[['keltner_indicator', 'bbands_indicator', 'ichimoku_label','macd_indicator', 'rsi_label', 'ease_label', 'cmf_label', 'stochastic_label']]\n",
    "y_train_boom_dow = train_data_boom_dow[['dow_labels']]\n",
    "y_test_boom_dow = test_data_boom_dow[['dow_labels']]"
   ]
  },
  {
   "cell_type": "code",
   "execution_count": 27,
   "metadata": {},
   "outputs": [],
   "source": [
    "from sklearn import tree\n",
    "\n",
    "model = tree.DecisionTreeClassifier()\n",
    "\n",
    "model.fit(X_train_boom_dow, y_train_boom_dow)\n",
    "\n",
    "y_predict = model.predict(X_test_boom_dow)"
   ]
  },
  {
   "cell_type": "code",
   "execution_count": 28,
   "metadata": {},
   "outputs": [
    {
     "data": {
      "text/plain": [
       "0.38857142857142857"
      ]
     },
     "execution_count": 28,
     "metadata": {},
     "output_type": "execute_result"
    }
   ],
   "source": [
    "from sklearn.metrics import accuracy_score\n",
    "\n",
    "accuracy_score(y_test_boom_dow, y_predict)"
   ]
  },
  {
   "cell_type": "code",
   "execution_count": 29,
   "metadata": {},
   "outputs": [],
   "source": [
    "tree.export_graphviz(model, out_file='boom_dow_tree.dot', feature_names=X.columns)"
   ]
  },
  {
   "cell_type": "code",
   "execution_count": 30,
   "metadata": {},
   "outputs": [
    {
     "name": "stdout",
     "output_type": "stream",
     "text": [
      "/bin/sh: 1: pip3: not found\n"
     ]
    },
    {
     "data": {
      "image/png": "[encoded data removed]",
      "text/plain": [
       "<Figure size 432x288 with 1 Axes>"
      ]
     },
     "metadata": {},
     "output_type": "display_data"
    }
   ],
   "source": [
    "# from subprocess import call\n",
    "# !pip install pydot\n",
    "# call(['dot', '-T', 'png', 'tree.dot', '-o', 'tree.png'])\n",
    "!pip3 install pygraphviz\n",
    "import pygraphviz as pgv\n",
    "import networkx as nx\n",
    "import matplotlib.pyplot as plt\n",
    "Gtmp = pgv.AGraph('boom_dow_tree.dot')\n",
    "G = nx.Graph(Gtmp)\n",
    "nx.draw(G)\n",
    "plt.show()"
   ]
  },
  {
   "cell_type": "code",
   "execution_count": 31,
   "metadata": {},
   "outputs": [],
   "source": [
    "import pydot\n",
    "\n",
    "(graph,) = pydot.graph_from_dot_file('boom_dow_tree.dot')\n",
    "graph.write_png('boom_dow_decisiontree.png')"
   ]
  },
  {
   "cell_type": "code",
   "execution_count": 32,
   "metadata": {},
   "outputs": [
    {
     "name": "stdout",
     "output_type": "stream",
     "text": [
      "[[108   4  80]\n",
      " [ 42   2  17]\n",
      " [152  11 109]]\n",
      "              precision    recall  f1-score   support\n",
      "\n",
      "        -1.0       0.36      0.56      0.44       192\n",
      "         0.0       0.12      0.03      0.05        61\n",
      "         1.0       0.53      0.40      0.46       272\n",
      "\n",
      "   micro avg       0.42      0.42      0.42       525\n",
      "   macro avg       0.33      0.33      0.31       525\n",
      "weighted avg       0.42      0.42      0.40       525\n",
      "\n",
      "0.41714285714285715\n"
     ]
    }
   ],
   "source": [
    "from sklearn.ensemble import RandomForestClassifier\n",
    "from sklearn.datasets import make_classification\n",
    "from sklearn.metrics import classification_report, confusion_matrix, accuracy_score\n",
    "\n",
    "X = dow_df[['keltner_indicator', 'bbands_indicator', 'ichimoku_label','macd_indicator', 'rsi_label', 'ease_label', 'cmf_label', 'stochastic_label']]\n",
    "y = dow_df['dow_labels']\n",
    "train_data_boom_dow, test_data_boom_dow = get_boom_test_train(dow_df)\n",
    "X_train_boom_dow = train_data_boom_dow[['keltner_indicator', 'bbands_indicator', 'ichimoku_label','macd_indicator', 'rsi_label', 'ease_label', 'cmf_label', 'stochastic_label']]\n",
    "X_test_boom_dow = test_data_boom_dow[['keltner_indicator', 'bbands_indicator', 'ichimoku_label','macd_indicator', 'rsi_label', 'ease_label', 'cmf_label', 'stochastic_label']]\n",
    "y_train_boom_dow = train_data_boom_dow[['dow_labels']]\n",
    "y_test_boom_dow = test_data_boom_dow[['dow_labels']]\n",
    "\n",
    "model = RandomForestClassifier(n_estimators=100)\n",
    "model.fit(X_train_boom_dow, y_train_boom_dow.values.ravel())\n",
    "y_pred = model.predict(X_test_boom_dow)\n",
    "\n",
    "print(confusion_matrix(y_test_boom_dow,y_pred))\n",
    "print(classification_report(y_test_boom_dow,y_pred))\n",
    "print(accuracy_score(y_test_boom_dow, y_pred))"
   ]
  },
  {
   "cell_type": "code",
   "execution_count": 33,
   "metadata": {},
   "outputs": [],
   "source": [
    "r1 = ['3/1/1989','3/28/1991']\n",
    "r2 = ['11/1/1999','11/30/2001']\n",
    "r3 = ['6/1/2007','6/30/2009']\n",
    "\n",
    "def get_recession_test_train(df):\n",
    "    try:\n",
    "        df = df.set_index('Date')\n",
    "    except:\n",
    "        pass\n",
    "    train = pd.concat([df.loc[r1[0]:r1[1]],df.loc[r2[0]:r2[1]]])\n",
    "    test = df.loc[r3[0]:r3[1]]\n",
    "    return(train, test)"
   ]
  },
  {
   "cell_type": "code",
   "execution_count": 34,
   "metadata": {},
   "outputs": [],
   "source": [
    "X = dow_df[['keltner_indicator', 'bbands_indicator', 'ichimoku_label','macd_indicator', 'rsi_label', 'ease_label', 'cmf_label', 'stochastic_label']]\n",
    "y = dow_df['dow_labels']\n",
    "train_data_recession_dow, test_data_recession_dow = get_recession_test_train(dow_df)\n",
    "X_train_recession_dow = train_data_recession_dow[['keltner_indicator', 'bbands_indicator', 'ichimoku_label','macd_indicator', 'rsi_label', 'ease_label', 'cmf_label', 'stochastic_label']]\n",
    "X_test_recession_dow = test_data_recession_dow[['keltner_indicator', 'bbands_indicator', 'ichimoku_label','macd_indicator', 'rsi_label', 'ease_label', 'cmf_label', 'stochastic_label']]\n",
    "y_train_recession_dow = train_data_recession_dow[['dow_labels']]\n",
    "y_test_recession_dow = test_data_recession_dow[['dow_labels']]"
   ]
  },
  {
   "cell_type": "code",
   "execution_count": 35,
   "metadata": {},
   "outputs": [],
   "source": [
    "from sklearn import tree\n",
    "\n",
    "model = tree.DecisionTreeClassifier()\n",
    "\n",
    "model.fit(X_train_recession_dow, y_train_recession_dow)\n",
    "\n",
    "y_predict = model.predict(X_test_recession_dow)"
   ]
  },
  {
   "cell_type": "code",
   "execution_count": 36,
   "metadata": {},
   "outputs": [
    {
     "data": {
      "text/plain": [
       "0.40190476190476193"
      ]
     },
     "execution_count": 36,
     "metadata": {},
     "output_type": "execute_result"
    }
   ],
   "source": [
    "from sklearn.metrics import accuracy_score\n",
    "\n",
    "accuracy_score(y_test_recession_dow, y_predict)"
   ]
  },
  {
   "cell_type": "code",
   "execution_count": 37,
   "metadata": {},
   "outputs": [],
   "source": [
    "tree.export_graphviz(model, out_file='recession_dow_tree.dot', feature_names=X.columns)"
   ]
  },
  {
   "cell_type": "code",
   "execution_count": 38,
   "metadata": {},
   "outputs": [
    {
     "name": "stdout",
     "output_type": "stream",
     "text": [
      "/bin/sh: 1: pip3: not found\n"
     ]
    },
    {
     "data": {
      "image/png": "[encoded data removed]",
      "text/plain": [
       "<Figure size 432x288 with 1 Axes>"
      ]
     },
     "metadata": {},
     "output_type": "display_data"
    }
   ],
   "source": [
    "# from subprocess import call\n",
    "# !pip install pydot\n",
    "# call(['dot', '-T', 'png', 'tree.dot', '-o', 'tree.png'])\n",
    "!pip3 install pygraphviz\n",
    "import pygraphviz as pgv\n",
    "import networkx as nx\n",
    "import matplotlib.pyplot as plt\n",
    "Gtmp = pgv.AGraph('recession_dow_tree.dot')\n",
    "G = nx.Graph(Gtmp)\n",
    "nx.draw(G)\n",
    "plt.show()"
   ]
  },
  {
   "cell_type": "code",
   "execution_count": 39,
   "metadata": {},
   "outputs": [],
   "source": [
    "import pydot\n",
    "\n",
    "(graph,) = pydot.graph_from_dot_file('recession_dow_tree.dot')\n",
    "graph.write_png('recession_dow_decisiontree.png')"
   ]
  },
  {
   "cell_type": "code",
   "execution_count": 40,
   "metadata": {},
   "outputs": [
    {
     "name": "stdout",
     "output_type": "stream",
     "text": [
      "[[ 73   3 173]\n",
      " [ 29   2  79]\n",
      " [ 40   3 123]]\n",
      "              precision    recall  f1-score   support\n",
      "\n",
      "        -1.0       0.51      0.29      0.37       249\n",
      "         0.0       0.25      0.02      0.03       110\n",
      "         1.0       0.33      0.74      0.45       166\n",
      "\n",
      "   micro avg       0.38      0.38      0.38       525\n",
      "   macro avg       0.36      0.35      0.29       525\n",
      "weighted avg       0.40      0.38      0.33       525\n",
      "\n",
      "0.37714285714285717\n"
     ]
    }
   ],
   "source": [
    "from sklearn.ensemble import RandomForestClassifier\n",
    "from sklearn.datasets import make_classification\n",
    "from sklearn.metrics import classification_report, confusion_matrix, accuracy_score\n",
    "\n",
    "X = dow_df[['keltner_indicator', 'bbands_indicator', 'ichimoku_label','macd_indicator', 'rsi_label', 'ease_label', 'cmf_label', 'stochastic_label']]\n",
    "y = dow_df['dow_labels']\n",
    "train_data_recession_dow, test_data_recession_dow = get_recession_test_train(dow_df)\n",
    "X_train_recession_dow = train_data_recession_dow[['keltner_indicator', 'bbands_indicator', 'ichimoku_label','macd_indicator', 'rsi_label', 'ease_label', 'cmf_label', 'stochastic_label']]\n",
    "X_test_recession_dow = test_data_recession_dow[['keltner_indicator', 'bbands_indicator', 'ichimoku_label','macd_indicator', 'rsi_label', 'ease_label', 'cmf_label', 'stochastic_label']]\n",
    "y_train_recession_dow = train_data_recession_dow[['dow_labels']]\n",
    "y_test_recession_dow = test_data_recession_dow[['dow_labels']]\n",
    "\n",
    "model = RandomForestClassifier(n_estimators=100)\n",
    "model.fit(X_train_recession_dow, y_train_recession_dow.values.ravel())\n",
    "y_pred = model.predict(X_test_recession_dow)\n",
    "\n",
    "print(confusion_matrix(y_test_recession_dow,y_pred))\n",
    "print(classification_report(y_test_recession_dow,y_pred))\n",
    "print(accuracy_score(y_test_recession_dow, y_pred))"
   ]
  },
  {
   "cell_type": "code",
   "execution_count": null,
   "metadata": {},
   "outputs": [],
   "source": []
  }
 ],
 "metadata": {
  "kernelspec": {
   "display_name": "Python 3",
   "language": "python",
   "name": "python3"
  },
  "language_info": {
   "codemirror_mode": {
    "name": "ipython",
    "version": 3
   },
   "file_extension": ".py",
   "mimetype": "text/x-python",
   "name": "python",
   "nbconvert_exporter": "python",
   "pygments_lexer": "ipython3",
   "version": "3.6.7"
  }
 },
 "nbformat": 4,
 "nbformat_minor": 2
}
