{
 "cells": [
  {
   "cell_type": "code",
   "execution_count": null,
   "metadata": {},
   "outputs": [],
   "source": []
  },
  {
   "cell_type": "code",
   "execution_count": 1,
   "metadata": {},
   "outputs": [],
   "source": [
    "test_year_dates = ['2018-08-01','2019-08-30']\n",
    "t1year = ['2017-07-03','2018-07-30']\n",
    "t5year = ['2013-07-01','2018-07-30']\n",
    "\n",
    "# train_type should be ['1_year','5_year','all']\n",
    "def get_recent_test_train(df, train_type):\n",
    "    try:\n",
    "        df = df.set_index('Date')\n",
    "    except:\n",
    "        pass\n",
    "    test = df.loc[test_year_dates[0]:test_year_dates[1]]\n",
    "    if train_type == '1_year':\n",
    "        train = df.loc[t1year[0]:t1year[1]]\n",
    "    elif train_type == '5_year':\n",
    "        train = df.loc[t5year[0]:t5year[1]]\n",
    "    elif train_type == 'all':\n",
    "        train = df.loc[:t1year[1]]\n",
    "    else:\n",
    "        print(\"train_type must be one of the following:\")\n",
    "        print('1_year, ','5_year, ','or all')\n",
    "        return(0,0)\n",
    "    return(train, test)"
   ]
  },
  {
   "cell_type": "code",
   "execution_count": 2,
   "metadata": {},
   "outputs": [],
   "source": [
    "b1 = ['1991-04-01','1993-04-30']\n",
    "b2 = ['2001-12-03','2002-12-31']\n",
    "b3 = ['2009-07-01','2011-07-29']\n",
    "\n",
    "def get_boom_test_train(df):\n",
    "    try:\n",
    "        df = df.set_index('Date')\n",
    "    except:\n",
    "        pass\n",
    "    train = pd.concat([df.loc[b1[0]:b1[1]],df.loc[b2[0]:b2[1]]])\n",
    "    test = df.loc[b3[0]:b3[1]]\n",
    "    return(train, test)"
   ]
  },
  {
   "cell_type": "code",
   "execution_count": 3,
   "metadata": {},
   "outputs": [],
   "source": [
    "r1 = ['1989-03-01','1991-03-28']\n",
    "r2 = ['1999-11-01','2001-11-30']\n",
    "r3 = ['2007-06-01','2009-06-30']\n",
    "\n",
    "def get_recession_test_train(df):\n",
    "    try:\n",
    "        df = df.set_index('Date')\n",
    "    except:\n",
    "        pass\n",
    "    train = pd.concat([df.loc[r1[0]:r1[1]],df.loc[r2[0]:r2[1]]])\n",
    "    test = df.loc[r3[0]:r3[1]]\n",
    "    return(train, test)"
   ]
  },
  {
   "cell_type": "code",
   "execution_count": null,
   "metadata": {},
   "outputs": [],
   "source": []
  }
 ],
 "metadata": {
  "kernelspec": {
   "display_name": "Python 3",
   "language": "python",
   "name": "python3"
  },
  "language_info": {
   "codemirror_mode": {
    "name": "ipython",
    "version": 3
   },
   "file_extension": ".py",
   "mimetype": "text/x-python",
   "name": "python",
   "nbconvert_exporter": "python",
   "pygments_lexer": "ipython3",
   "version": "3.7.5"
  }
 },
 "nbformat": 4,
 "nbformat_minor": 2
}
